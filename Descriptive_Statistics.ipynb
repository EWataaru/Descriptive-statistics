{
  "nbformat": 4,
  "nbformat_minor": 0,
  "metadata": {
    "colab": {
      "name": "Descriptive Statistics.ipynb",
      "provenance": [],
      "toc_visible": true,
      "authorship_tag": "ABX9TyMj8zlYZVh87U2beMaP8Sw2",
      "include_colab_link": true
    },
    "kernelspec": {
      "display_name": "Python 3",
      "name": "python3"
    },
    "language_info": {
      "name": "python"
    }
  },
  "cells": [
    {
      "cell_type": "markdown",
      "metadata": {
        "id": "view-in-github",
        "colab_type": "text"
      },
      "source": [
        "<a href=\"https://colab.research.google.com/github/EWataaru/Descriptive-statistics/blob/main/Descriptive_Statistics.ipynb\" target=\"_parent\"><img src=\"https://colab.research.google.com/assets/colab-badge.svg\" alt=\"Open In Colab\"/></a>"
      ]
    },
    {
      "cell_type": "markdown",
      "metadata": {
        "id": "U10mR-mzcraG"
      },
      "source": [
        "# Financial Inclusion - Accessibility to or use a commercial bank accounts in Kenya, Rwanda, Tanzania and Uganda"
      ]
    },
    {
      "cell_type": "markdown",
      "metadata": {
        "id": "cyq_mrdUo1Dm"
      },
      "source": [
        "## i. Defining the Question"
      ]
    },
    {
      "cell_type": "markdown",
      "metadata": {
        "id": "dHqoXL1FpDHH"
      },
      "source": [
        "### 1) Specifying the Data Analytic Question"
      ]
    },
    {
      "cell_type": "markdown",
      "metadata": {
        "id": "w7J4l8PbIEP0"
      },
      "source": [
        "To determine the relationship betweeen social-economic factors and having a bank account as an indication of the state of financial inclusion in Kenya, Rwanda, Tanzania, and Uganda."
      ]
    },
    {
      "cell_type": "markdown",
      "metadata": {
        "id": "IOARgCCjpLmO"
      },
      "source": [
        "### 2) Defining the Metric for Success"
      ]
    },
    {
      "cell_type": "markdown",
      "metadata": {
        "id": "TJ5QiZOoHwRI"
      },
      "source": [
        "The goal is to predict which individuals are most likely to have or use a bank account as an indication of the state of financial inclusion in Kenya, Rwanda, Tanzania, and Uganda.\n",
        "\n",
        "We will also to identify the key demographic factors that might drive individuals’ financial outcomes."
      ]
    },
    {
      "cell_type": "markdown",
      "metadata": {
        "id": "4O8ba-GQpUQ2"
      },
      "source": [
        "### 3) Understanding the context "
      ]
    },
    {
      "cell_type": "markdown",
      "metadata": {
        "id": "bwwR8mSxH5_h"
      },
      "source": [
        "Financial Inclusion remains one of the main obstacles to economic and human development in Africa. For example, across Kenya, Rwanda, Tanzania, and Uganda only 9.1 million adults (or 13.9% of the adult population) have access to or use a commercial bank account.\n",
        "\n",
        "Traditionally, access to bank accounts has been regarded as an indicator of financial inclusion. Despite the proliferation of mobile money in Africa and the growth of innovative fintech solutions, banks still play a pivotal role in facilitating access to financial services. Access to bank accounts enables households to save and facilitate payments while also helping businesses build up their credit-worthiness and improve their access to other financial services.\n",
        "\n",
        "Therefore, access to bank accounts is an essential contributor to long-term economic growth."
      ]
    },
    {
      "cell_type": "markdown",
      "metadata": {
        "id": "YP7ryd53pdJy"
      },
      "source": [
        "### 4) Recording the Experimental Design"
      ]
    },
    {
      "cell_type": "markdown",
      "metadata": {
        "id": "G9uR293Dpxkk"
      },
      "source": [
        "We will perform descriptive statistical analysis to summarize and draw conclusions about the data.\n",
        "\n",
        "\n",
        "Data Understanding\n",
        "\n",
        "Data Preparation\n",
        "\n",
        "Modeling\n",
        "\n",
        "Evaluation\n",
        "\n",
        "Recommendations"
      ]
    },
    {
      "cell_type": "markdown",
      "metadata": {
        "id": "o-RIYm75ps3a"
      },
      "source": [
        "### 5) Data Relevance"
      ]
    },
    {
      "cell_type": "markdown",
      "metadata": {
        "id": "pVFXDpT2WTFt"
      },
      "source": [
        "The main dataset contains demographic information and what financial services are used by individuals across East Africa. This data was extracted from various Finscope surveys ranging from 2016 to 2018, and more information about these surveys can be found here\n",
        "\n",
        "1.   https://www.fsdkenya.org/blogs-publications/publications/2018-annual-report/\n",
        "\n",
        "2.   http://www.statistics.gov.rw/publication/finscope-rwanda-2016\n",
        "\n",
        "3.  https://www.fsdt.or.tz/finscope/\n",
        "\n",
        "4.  https://fsduganda.or.ug/finscope-2018-survey-report/\n",
        "\n"
      ]
    },
    {
      "cell_type": "markdown",
      "metadata": {
        "id": "lXrvHis3p_t0"
      },
      "source": [
        "## ii. Reading the Data"
      ]
    },
    {
      "cell_type": "code",
      "metadata": {
        "id": "vQAecA6AqVW-"
      },
      "source": [
        "# Loading the Data from the source\n",
        "# ---\n",
        "# Dataset url = https://bit.ly/FinancialDataset\n",
        "# ---\n",
        "# Variable Definitions:\n",
        "# country - Country interviewee is in.\n",
        "# year - Year survey was done in.\n",
        "# uniqueid - Unique identifier for each interviewee\n",
        "# location_type - Type of location: Rural, Urban\n",
        "# cellphone_access - If interviewee has access to a cellphone: Yes, No\n",
        "# household_size - Number of people living in one house\n",
        "# age_of_respondent - The age of the interviewee\n",
        "# gender_of_respondent - Gender of interviewee: Male, Female\n",
        "# relationship_with_head - The interviewee‚Äôs relationship with the head of the house:Head of Household, Spouse, Child, Parent, Other relative, Other non-relatives, Dont know\n",
        "# marital_status - The martial status of the interviewee: Married/Living together, Divorced/Seperated, Widowed, Single/Never Married, Don‚Äôt know\n",
        "# education_level - Highest level of education: No formal education, Primary education, Secondary education, Vocational/Specialised training, Tertiary education, Other/Dont know/RTA\n",
        "# job_type - Type of job interviewee has: Farming and Fishing, Self employed, Formally employed Government, Formally employed Private, Informally employed, Remittance Dependent, Government Dependent, Other Income, No Income, Dont Know/Refuse to answer\n"
      ],
      "execution_count": 446,
      "outputs": []
    },
    {
      "cell_type": "code",
      "metadata": {
        "id": "ElADAK-_sBwj"
      },
      "source": [
        "# Importing Libraries\n",
        "# Importing Numpy\n",
        "import numpy as np\n",
        "\n",
        "# Importing Pandas\n",
        "import pandas as pd\n",
        "\n",
        "# Importing Matplotlib\n",
        "import matplotlib.pyplot as plt\n",
        "\n",
        "# Importing Seaborn\n",
        "import seaborn as sns\n",
        "\n",
        "# sns.set_style()\n",
        "sns.set_style('whitegrid')"
      ],
      "execution_count": 447,
      "outputs": []
    },
    {
      "cell_type": "code",
      "metadata": {
        "id": "Jbs-lwMtsJ4a"
      },
      "source": [
        "# Loading dataset\n",
        "\n",
        "FD = pd.read_csv('https://bit.ly/FinancialDataset')\n"
      ],
      "execution_count": 448,
      "outputs": []
    },
    {
      "cell_type": "code",
      "metadata": {
        "colab": {
          "base_uri": "https://localhost:8080/"
        },
        "id": "9_5D7DWWtapD",
        "outputId": "e85d1a88-dd42-48df-ab08-61ef32184554"
      },
      "source": [
        "# Determining the no. of records in our dataset\n",
        "FD.shape"
      ],
      "execution_count": 449,
      "outputs": [
        {
          "output_type": "execute_result",
          "data": {
            "text/plain": [
              "(23524, 13)"
            ]
          },
          "metadata": {},
          "execution_count": 449
        }
      ]
    },
    {
      "cell_type": "code",
      "metadata": {
        "colab": {
          "base_uri": "https://localhost:8080/",
          "height": 377
        },
        "id": "svpVUqexteRK",
        "outputId": "445412ab-6a15-48b8-c281-dd0e39267cec"
      },
      "source": [
        "# Previewing the top of our dataset\n",
        "FD.head()"
      ],
      "execution_count": 450,
      "outputs": [
        {
          "output_type": "execute_result",
          "data": {
            "text/html": [
              "<div>\n",
              "<style scoped>\n",
              "    .dataframe tbody tr th:only-of-type {\n",
              "        vertical-align: middle;\n",
              "    }\n",
              "\n",
              "    .dataframe tbody tr th {\n",
              "        vertical-align: top;\n",
              "    }\n",
              "\n",
              "    .dataframe thead th {\n",
              "        text-align: right;\n",
              "    }\n",
              "</style>\n",
              "<table border=\"1\" class=\"dataframe\">\n",
              "  <thead>\n",
              "    <tr style=\"text-align: right;\">\n",
              "      <th></th>\n",
              "      <th>country</th>\n",
              "      <th>year</th>\n",
              "      <th>uniqueid</th>\n",
              "      <th>Has a Bank account</th>\n",
              "      <th>Type of Location</th>\n",
              "      <th>Cell Phone Access</th>\n",
              "      <th>household_size</th>\n",
              "      <th>Respondent Age</th>\n",
              "      <th>gender_of_respondent</th>\n",
              "      <th>The relathip with head</th>\n",
              "      <th>marital_status</th>\n",
              "      <th>Level of Educuation</th>\n",
              "      <th>Type of Job</th>\n",
              "    </tr>\n",
              "  </thead>\n",
              "  <tbody>\n",
              "    <tr>\n",
              "      <th>0</th>\n",
              "      <td>Kenya</td>\n",
              "      <td>2018</td>\n",
              "      <td>uniqueid_1</td>\n",
              "      <td>Yes</td>\n",
              "      <td>Rural</td>\n",
              "      <td>Yes</td>\n",
              "      <td>3.0</td>\n",
              "      <td>24.0</td>\n",
              "      <td>Female</td>\n",
              "      <td>Spouse</td>\n",
              "      <td>Married/Living together</td>\n",
              "      <td>Secondary education</td>\n",
              "      <td>Self employed</td>\n",
              "    </tr>\n",
              "    <tr>\n",
              "      <th>1</th>\n",
              "      <td>Kenya</td>\n",
              "      <td>2018</td>\n",
              "      <td>uniqueid_2</td>\n",
              "      <td>No</td>\n",
              "      <td>Rural</td>\n",
              "      <td>No</td>\n",
              "      <td>5.0</td>\n",
              "      <td>70.0</td>\n",
              "      <td>Female</td>\n",
              "      <td>Head of Household</td>\n",
              "      <td>Widowed</td>\n",
              "      <td>No formal education</td>\n",
              "      <td>Government Dependent</td>\n",
              "    </tr>\n",
              "    <tr>\n",
              "      <th>2</th>\n",
              "      <td>Kenya</td>\n",
              "      <td>2018</td>\n",
              "      <td>uniqueid_3</td>\n",
              "      <td>Yes</td>\n",
              "      <td>Urban</td>\n",
              "      <td>Yes</td>\n",
              "      <td>5.0</td>\n",
              "      <td>26.0</td>\n",
              "      <td>Male</td>\n",
              "      <td>Other relative</td>\n",
              "      <td>Single/Never Married</td>\n",
              "      <td>Vocational/Specialised training</td>\n",
              "      <td>Self employed</td>\n",
              "    </tr>\n",
              "    <tr>\n",
              "      <th>3</th>\n",
              "      <td>Kenya</td>\n",
              "      <td>2018</td>\n",
              "      <td>uniqueid_4</td>\n",
              "      <td>No</td>\n",
              "      <td>Rural</td>\n",
              "      <td>Yes</td>\n",
              "      <td>5.0</td>\n",
              "      <td>34.0</td>\n",
              "      <td>Female</td>\n",
              "      <td>Head of Household</td>\n",
              "      <td>Married/Living together</td>\n",
              "      <td>Primary education</td>\n",
              "      <td>Formally employed Private</td>\n",
              "    </tr>\n",
              "    <tr>\n",
              "      <th>4</th>\n",
              "      <td>Kenya</td>\n",
              "      <td>2018</td>\n",
              "      <td>uniqueid_5</td>\n",
              "      <td>No</td>\n",
              "      <td>Urban</td>\n",
              "      <td>No</td>\n",
              "      <td>8.0</td>\n",
              "      <td>26.0</td>\n",
              "      <td>Male</td>\n",
              "      <td>Child</td>\n",
              "      <td>Single/Never Married</td>\n",
              "      <td>Primary education</td>\n",
              "      <td>Informally employed</td>\n",
              "    </tr>\n",
              "  </tbody>\n",
              "</table>\n",
              "</div>"
            ],
            "text/plain": [
              "  country  year  ...              Level of Educuation                Type of Job\n",
              "0   Kenya  2018  ...              Secondary education              Self employed\n",
              "1   Kenya  2018  ...              No formal education       Government Dependent\n",
              "2   Kenya  2018  ...  Vocational/Specialised training              Self employed\n",
              "3   Kenya  2018  ...                Primary education  Formally employed Private\n",
              "4   Kenya  2018  ...                Primary education        Informally employed\n",
              "\n",
              "[5 rows x 13 columns]"
            ]
          },
          "metadata": {},
          "execution_count": 450
        }
      ]
    },
    {
      "cell_type": "code",
      "metadata": {
        "colab": {
          "base_uri": "https://localhost:8080/",
          "height": 360
        },
        "id": "dWvOuPI8tk-9",
        "outputId": "11ab787c-b678-46c0-ebb1-bb24fe9a6f93"
      },
      "source": [
        "# Previewing the bottom of our dataset\n",
        "FD.tail()"
      ],
      "execution_count": 451,
      "outputs": [
        {
          "output_type": "execute_result",
          "data": {
            "text/html": [
              "<div>\n",
              "<style scoped>\n",
              "    .dataframe tbody tr th:only-of-type {\n",
              "        vertical-align: middle;\n",
              "    }\n",
              "\n",
              "    .dataframe tbody tr th {\n",
              "        vertical-align: top;\n",
              "    }\n",
              "\n",
              "    .dataframe thead th {\n",
              "        text-align: right;\n",
              "    }\n",
              "</style>\n",
              "<table border=\"1\" class=\"dataframe\">\n",
              "  <thead>\n",
              "    <tr style=\"text-align: right;\">\n",
              "      <th></th>\n",
              "      <th>country</th>\n",
              "      <th>year</th>\n",
              "      <th>uniqueid</th>\n",
              "      <th>Has a Bank account</th>\n",
              "      <th>Type of Location</th>\n",
              "      <th>Cell Phone Access</th>\n",
              "      <th>household_size</th>\n",
              "      <th>Respondent Age</th>\n",
              "      <th>gender_of_respondent</th>\n",
              "      <th>The relathip with head</th>\n",
              "      <th>marital_status</th>\n",
              "      <th>Level of Educuation</th>\n",
              "      <th>Type of Job</th>\n",
              "    </tr>\n",
              "  </thead>\n",
              "  <tbody>\n",
              "    <tr>\n",
              "      <th>23519</th>\n",
              "      <td>Uganda</td>\n",
              "      <td>2018</td>\n",
              "      <td>uniqueid_2113</td>\n",
              "      <td>No</td>\n",
              "      <td>Rural</td>\n",
              "      <td>Yes</td>\n",
              "      <td>4.0</td>\n",
              "      <td>48.0</td>\n",
              "      <td>Female</td>\n",
              "      <td>Head of Household</td>\n",
              "      <td>Divorced/Seperated</td>\n",
              "      <td>No formal education</td>\n",
              "      <td>Other Income</td>\n",
              "    </tr>\n",
              "    <tr>\n",
              "      <th>23520</th>\n",
              "      <td>Uganda</td>\n",
              "      <td>2018</td>\n",
              "      <td>uniqueid_2114</td>\n",
              "      <td>No</td>\n",
              "      <td>Rural</td>\n",
              "      <td>Yes</td>\n",
              "      <td>2.0</td>\n",
              "      <td>27.0</td>\n",
              "      <td>Female</td>\n",
              "      <td>Head of Household</td>\n",
              "      <td>Single/Never Married</td>\n",
              "      <td>Secondary education</td>\n",
              "      <td>Other Income</td>\n",
              "    </tr>\n",
              "    <tr>\n",
              "      <th>23521</th>\n",
              "      <td>Uganda</td>\n",
              "      <td>2018</td>\n",
              "      <td>uniqueid_2115</td>\n",
              "      <td>No</td>\n",
              "      <td>Rural</td>\n",
              "      <td>Yes</td>\n",
              "      <td>5.0</td>\n",
              "      <td>27.0</td>\n",
              "      <td>Female</td>\n",
              "      <td>Parent</td>\n",
              "      <td>Widowed</td>\n",
              "      <td>Primary education</td>\n",
              "      <td>Other Income</td>\n",
              "    </tr>\n",
              "    <tr>\n",
              "      <th>23522</th>\n",
              "      <td>Uganda</td>\n",
              "      <td>2018</td>\n",
              "      <td>uniqueid_2116</td>\n",
              "      <td>No</td>\n",
              "      <td>Urban</td>\n",
              "      <td>Yes</td>\n",
              "      <td>7.0</td>\n",
              "      <td>30.0</td>\n",
              "      <td>Female</td>\n",
              "      <td>Parent</td>\n",
              "      <td>Divorced/Seperated</td>\n",
              "      <td>Secondary education</td>\n",
              "      <td>Self employed</td>\n",
              "    </tr>\n",
              "    <tr>\n",
              "      <th>23523</th>\n",
              "      <td>Uganda</td>\n",
              "      <td>2018</td>\n",
              "      <td>uniqueid_2117</td>\n",
              "      <td>No</td>\n",
              "      <td>Rural</td>\n",
              "      <td>Yes</td>\n",
              "      <td>10.0</td>\n",
              "      <td>20.0</td>\n",
              "      <td>Male</td>\n",
              "      <td>Child</td>\n",
              "      <td>Single/Never Married</td>\n",
              "      <td>Secondary education</td>\n",
              "      <td>No Income</td>\n",
              "    </tr>\n",
              "  </tbody>\n",
              "</table>\n",
              "</div>"
            ],
            "text/plain": [
              "      country  year  ...  Level of Educuation    Type of Job\n",
              "23519  Uganda  2018  ...  No formal education   Other Income\n",
              "23520  Uganda  2018  ...  Secondary education   Other Income\n",
              "23521  Uganda  2018  ...    Primary education   Other Income\n",
              "23522  Uganda  2018  ...  Secondary education  Self employed\n",
              "23523  Uganda  2018  ...  Secondary education      No Income\n",
              "\n",
              "[5 rows x 13 columns]"
            ]
          },
          "metadata": {},
          "execution_count": 451
        }
      ]
    },
    {
      "cell_type": "code",
      "metadata": {
        "colab": {
          "base_uri": "https://localhost:8080/"
        },
        "id": "d2mz8Apst2ZP",
        "outputId": "93108f4c-7cb3-4035-abeb-e1bf6067daa7"
      },
      "source": [
        "# Checking whether each column has an appropriate datatype\n",
        "FD.info()"
      ],
      "execution_count": 452,
      "outputs": [
        {
          "output_type": "stream",
          "name": "stdout",
          "text": [
            "<class 'pandas.core.frame.DataFrame'>\n",
            "RangeIndex: 23524 entries, 0 to 23523\n",
            "Data columns (total 13 columns):\n",
            " #   Column                  Non-Null Count  Dtype  \n",
            "---  ------                  --------------  -----  \n",
            " 0   country                 23510 non-null  object \n",
            " 1   year                    23524 non-null  int64  \n",
            " 2   uniqueid                23524 non-null  object \n",
            " 3   Has a Bank account      23488 non-null  object \n",
            " 4   Type of Location        23509 non-null  object \n",
            " 5   Cell Phone Access       23513 non-null  object \n",
            " 6   household_size          23496 non-null  float64\n",
            " 7   Respondent Age          23490 non-null  float64\n",
            " 8   gender_of_respondent    23490 non-null  object \n",
            " 9   The relathip with head  23520 non-null  object \n",
            " 10  marital_status          23492 non-null  object \n",
            " 11  Level of Educuation     23495 non-null  object \n",
            " 12  Type of Job             23494 non-null  object \n",
            "dtypes: float64(2), int64(1), object(10)\n",
            "memory usage: 2.3+ MB\n"
          ]
        }
      ]
    },
    {
      "cell_type": "markdown",
      "metadata": {
        "id": "1Jm6fHmeuXy5"
      },
      "source": [
        "## iii. Tidying the Dataset"
      ]
    },
    {
      "cell_type": "markdown",
      "metadata": {
        "id": "fwXtYtKU25fo"
      },
      "source": [
        "### Identifying and dealing with missing data"
      ]
    },
    {
      "cell_type": "code",
      "metadata": {
        "colab": {
          "base_uri": "https://localhost:8080/"
        },
        "id": "YlnwxTDi2T8P",
        "outputId": "7cd93282-65da-4a2f-ed7f-3569dec1fc0b"
      },
      "source": [
        "# Checking for missing values in the dataset\n",
        "FD.isnull().sum()"
      ],
      "execution_count": 453,
      "outputs": [
        {
          "output_type": "execute_result",
          "data": {
            "text/plain": [
              "country                   14\n",
              "year                       0\n",
              "uniqueid                   0\n",
              "Has a Bank account        36\n",
              "Type of Location          15\n",
              "Cell Phone Access         11\n",
              "household_size            28\n",
              "Respondent Age            34\n",
              "gender_of_respondent      34\n",
              "The relathip with head     4\n",
              "marital_status            32\n",
              "Level of Educuation       29\n",
              "Type of Job               30\n",
              "dtype: int64"
            ]
          },
          "metadata": {},
          "execution_count": 453
        }
      ]
    },
    {
      "cell_type": "code",
      "metadata": {
        "colab": {
          "base_uri": "https://localhost:8080/"
        },
        "id": "j1WwF91pleoH",
        "outputId": "49b80bcb-2d94-4557-b91a-ef108c047e55"
      },
      "source": [
        "#propotion of the data that has missing values\n",
        "((FD.isnull().sum().sum())/FD.shape[0])*100"
      ],
      "execution_count": 454,
      "outputs": [
        {
          "output_type": "execute_result",
          "data": {
            "text/plain": [
              "1.1350110525420847"
            ]
          },
          "metadata": {},
          "execution_count": 454
        }
      ]
    },
    {
      "cell_type": "code",
      "metadata": {
        "id": "B_elal7x0YWU"
      },
      "source": [
        "# we drop any record with a missing value\n",
        "#\n",
        "FD_DATA = FD.dropna()"
      ],
      "execution_count": 455,
      "outputs": []
    },
    {
      "cell_type": "code",
      "metadata": {
        "colab": {
          "base_uri": "https://localhost:8080/"
        },
        "id": "JJ_MLLUr06UT",
        "outputId": "4fc60636-36a0-468b-bed3-77bc7316334c"
      },
      "source": [
        "FD_DATA.isnull().sum()"
      ],
      "execution_count": 456,
      "outputs": [
        {
          "output_type": "execute_result",
          "data": {
            "text/plain": [
              "country                   0\n",
              "year                      0\n",
              "uniqueid                  0\n",
              "Has a Bank account        0\n",
              "Type of Location          0\n",
              "Cell Phone Access         0\n",
              "household_size            0\n",
              "Respondent Age            0\n",
              "gender_of_respondent      0\n",
              "The relathip with head    0\n",
              "marital_status            0\n",
              "Level of Educuation       0\n",
              "Type of Job               0\n",
              "dtype: int64"
            ]
          },
          "metadata": {},
          "execution_count": 456
        }
      ]
    },
    {
      "cell_type": "code",
      "metadata": {
        "colab": {
          "base_uri": "https://localhost:8080/"
        },
        "id": "6uYq7lhM1zIw",
        "outputId": "b3092f99-1229-419b-a56f-6cfa83b245f8"
      },
      "source": [
        "FD_DATA.info()"
      ],
      "execution_count": 457,
      "outputs": [
        {
          "output_type": "stream",
          "name": "stdout",
          "text": [
            "<class 'pandas.core.frame.DataFrame'>\n",
            "Int64Index: 23343 entries, 0 to 23523\n",
            "Data columns (total 13 columns):\n",
            " #   Column                  Non-Null Count  Dtype  \n",
            "---  ------                  --------------  -----  \n",
            " 0   country                 23343 non-null  object \n",
            " 1   year                    23343 non-null  int64  \n",
            " 2   uniqueid                23343 non-null  object \n",
            " 3   Has a Bank account      23343 non-null  object \n",
            " 4   Type of Location        23343 non-null  object \n",
            " 5   Cell Phone Access       23343 non-null  object \n",
            " 6   household_size          23343 non-null  float64\n",
            " 7   Respondent Age          23343 non-null  float64\n",
            " 8   gender_of_respondent    23343 non-null  object \n",
            " 9   The relathip with head  23343 non-null  object \n",
            " 10  marital_status          23343 non-null  object \n",
            " 11  Level of Educuation     23343 non-null  object \n",
            " 12  Type of Job             23343 non-null  object \n",
            "dtypes: float64(2), int64(1), object(10)\n",
            "memory usage: 2.5+ MB\n"
          ]
        }
      ]
    },
    {
      "cell_type": "code",
      "metadata": {
        "colab": {
          "base_uri": "https://localhost:8080/"
        },
        "id": "tX1V_OtlAfGw",
        "outputId": "ff3b7d59-6e15-4569-e19d-31089334377d"
      },
      "source": [
        "#renaming column headers to rectify the typos\n",
        "FD_DATA.rename(columns={'Has a Bank account':'Has_a_Bank_account', 'Type of Location':'Type_of_Location','Cell Phone Access':'Cell_Phone_Access','Respondent Age':'Respondent_Age','The relathip with head': 'relationship_with_head', 'Level of Educuation':'level_of_education', 'Type of Job':'Type_of_Job'}, inplace = True)\n",
        "FD_DATA.columns"
      ],
      "execution_count": 458,
      "outputs": [
        {
          "output_type": "stream",
          "name": "stderr",
          "text": [
            "/usr/local/lib/python3.7/dist-packages/pandas/core/frame.py:4308: SettingWithCopyWarning: \n",
            "A value is trying to be set on a copy of a slice from a DataFrame\n",
            "\n",
            "See the caveats in the documentation: https://pandas.pydata.org/pandas-docs/stable/user_guide/indexing.html#returning-a-view-versus-a-copy\n",
            "  errors=errors,\n"
          ]
        },
        {
          "output_type": "execute_result",
          "data": {
            "text/plain": [
              "Index(['country', 'year', 'uniqueid', 'Has_a_Bank_account', 'Type_of_Location',\n",
              "       'Cell_Phone_Access', 'household_size', 'Respondent_Age',\n",
              "       'gender_of_respondent', 'relationship_with_head', 'marital_status',\n",
              "       'level_of_education', 'Type_of_Job'],\n",
              "      dtype='object')"
            ]
          },
          "metadata": {},
          "execution_count": 458
        }
      ]
    },
    {
      "cell_type": "code",
      "metadata": {
        "colab": {
          "base_uri": "https://localhost:8080/"
        },
        "id": "JZ1BkmAMi3z3",
        "outputId": "106b1a3e-dc39-4553-8a5d-d0116008343e"
      },
      "source": [
        "# Rename columns to have standard column names\n",
        "col_names = FD_DATA.columns.tolist()\n",
        "for col in range(len(col_names)):\n",
        "  col_names[col] = col_names[col].lower().replace(\" \", \"_\")\n",
        "\n",
        "FD_DATA.columns = col_names\n",
        "FD_DATA.columns"
      ],
      "execution_count": 459,
      "outputs": [
        {
          "output_type": "execute_result",
          "data": {
            "text/plain": [
              "Index(['country', 'year', 'uniqueid', 'has_a_bank_account', 'type_of_location',\n",
              "       'cell_phone_access', 'household_size', 'respondent_age',\n",
              "       'gender_of_respondent', 'relationship_with_head', 'marital_status',\n",
              "       'level_of_education', 'type_of_job'],\n",
              "      dtype='object')"
            ]
          },
          "metadata": {},
          "execution_count": 459
        }
      ]
    },
    {
      "cell_type": "code",
      "metadata": {
        "id": "5W9BEJWkChax",
        "colab": {
          "base_uri": "https://localhost:8080/"
        },
        "outputId": "06b8d794-2bf7-4f63-ad53-9385422aef56"
      },
      "source": [
        "# Changing household_size data type to integer\n",
        "FD_DATA['household_size'] = FD_DATA['household_size'].astype(int)"
      ],
      "execution_count": 460,
      "outputs": [
        {
          "output_type": "stream",
          "name": "stderr",
          "text": [
            "/usr/local/lib/python3.7/dist-packages/ipykernel_launcher.py:2: SettingWithCopyWarning: \n",
            "A value is trying to be set on a copy of a slice from a DataFrame.\n",
            "Try using .loc[row_indexer,col_indexer] = value instead\n",
            "\n",
            "See the caveats in the documentation: https://pandas.pydata.org/pandas-docs/stable/user_guide/indexing.html#returning-a-view-versus-a-copy\n",
            "  \n"
          ]
        }
      ]
    },
    {
      "cell_type": "code",
      "metadata": {
        "colab": {
          "base_uri": "https://localhost:8080/"
        },
        "id": "FOdm1ybPGuGU",
        "outputId": "a66edb92-1c03-49a9-e59c-c09608fc3d47"
      },
      "source": [
        "# Changing categories dtypes\n",
        "#\n",
        "FD_DATA['country'] = FD_DATA['country'].astype(str)\n",
        "FD_DATA['uniqueid'] = FD_DATA['uniqueid'].astype(str)\n",
        "FD_DATA['has_a_bank_account'] = FD_DATA['has_a_bank_account'].astype(str)\n",
        "FD_DATA['type_of_location'] = FD_DATA['type_of_location'].astype(str)\n",
        "FD_DATA['cell_phone_access'] = FD_DATA['cell_phone_access'].astype(str)\n",
        "FD_DATA['gender_of_respondent'] = FD_DATA['gender_of_respondent'].astype(str)\n",
        "FD_DATA['relationship_with_head'] = FD_DATA['relationship_with_head'].astype(str)\n",
        "FD_DATA['marital_status'] = FD_DATA['marital_status'].astype(str)\n",
        "FD_DATA['level_of_education'] = FD_DATA['level_of_education'].astype(str)\n",
        "FD_DATA['type_of_job'] = FD_DATA['type_of_job'].astype(str)"
      ],
      "execution_count": 461,
      "outputs": [
        {
          "output_type": "stream",
          "name": "stderr",
          "text": [
            "/usr/local/lib/python3.7/dist-packages/ipykernel_launcher.py:3: SettingWithCopyWarning: \n",
            "A value is trying to be set on a copy of a slice from a DataFrame.\n",
            "Try using .loc[row_indexer,col_indexer] = value instead\n",
            "\n",
            "See the caveats in the documentation: https://pandas.pydata.org/pandas-docs/stable/user_guide/indexing.html#returning-a-view-versus-a-copy\n",
            "  This is separate from the ipykernel package so we can avoid doing imports until\n",
            "/usr/local/lib/python3.7/dist-packages/ipykernel_launcher.py:4: SettingWithCopyWarning: \n",
            "A value is trying to be set on a copy of a slice from a DataFrame.\n",
            "Try using .loc[row_indexer,col_indexer] = value instead\n",
            "\n",
            "See the caveats in the documentation: https://pandas.pydata.org/pandas-docs/stable/user_guide/indexing.html#returning-a-view-versus-a-copy\n",
            "  after removing the cwd from sys.path.\n",
            "/usr/local/lib/python3.7/dist-packages/ipykernel_launcher.py:5: SettingWithCopyWarning: \n",
            "A value is trying to be set on a copy of a slice from a DataFrame.\n",
            "Try using .loc[row_indexer,col_indexer] = value instead\n",
            "\n",
            "See the caveats in the documentation: https://pandas.pydata.org/pandas-docs/stable/user_guide/indexing.html#returning-a-view-versus-a-copy\n",
            "  \"\"\"\n",
            "/usr/local/lib/python3.7/dist-packages/ipykernel_launcher.py:6: SettingWithCopyWarning: \n",
            "A value is trying to be set on a copy of a slice from a DataFrame.\n",
            "Try using .loc[row_indexer,col_indexer] = value instead\n",
            "\n",
            "See the caveats in the documentation: https://pandas.pydata.org/pandas-docs/stable/user_guide/indexing.html#returning-a-view-versus-a-copy\n",
            "  \n",
            "/usr/local/lib/python3.7/dist-packages/ipykernel_launcher.py:7: SettingWithCopyWarning: \n",
            "A value is trying to be set on a copy of a slice from a DataFrame.\n",
            "Try using .loc[row_indexer,col_indexer] = value instead\n",
            "\n",
            "See the caveats in the documentation: https://pandas.pydata.org/pandas-docs/stable/user_guide/indexing.html#returning-a-view-versus-a-copy\n",
            "  import sys\n",
            "/usr/local/lib/python3.7/dist-packages/ipykernel_launcher.py:8: SettingWithCopyWarning: \n",
            "A value is trying to be set on a copy of a slice from a DataFrame.\n",
            "Try using .loc[row_indexer,col_indexer] = value instead\n",
            "\n",
            "See the caveats in the documentation: https://pandas.pydata.org/pandas-docs/stable/user_guide/indexing.html#returning-a-view-versus-a-copy\n",
            "  \n",
            "/usr/local/lib/python3.7/dist-packages/ipykernel_launcher.py:9: SettingWithCopyWarning: \n",
            "A value is trying to be set on a copy of a slice from a DataFrame.\n",
            "Try using .loc[row_indexer,col_indexer] = value instead\n",
            "\n",
            "See the caveats in the documentation: https://pandas.pydata.org/pandas-docs/stable/user_guide/indexing.html#returning-a-view-versus-a-copy\n",
            "  if __name__ == '__main__':\n",
            "/usr/local/lib/python3.7/dist-packages/ipykernel_launcher.py:10: SettingWithCopyWarning: \n",
            "A value is trying to be set on a copy of a slice from a DataFrame.\n",
            "Try using .loc[row_indexer,col_indexer] = value instead\n",
            "\n",
            "See the caveats in the documentation: https://pandas.pydata.org/pandas-docs/stable/user_guide/indexing.html#returning-a-view-versus-a-copy\n",
            "  # Remove the CWD from sys.path while we load stuff.\n",
            "/usr/local/lib/python3.7/dist-packages/ipykernel_launcher.py:11: SettingWithCopyWarning: \n",
            "A value is trying to be set on a copy of a slice from a DataFrame.\n",
            "Try using .loc[row_indexer,col_indexer] = value instead\n",
            "\n",
            "See the caveats in the documentation: https://pandas.pydata.org/pandas-docs/stable/user_guide/indexing.html#returning-a-view-versus-a-copy\n",
            "  # This is added back by InteractiveShellApp.init_path()\n",
            "/usr/local/lib/python3.7/dist-packages/ipykernel_launcher.py:12: SettingWithCopyWarning: \n",
            "A value is trying to be set on a copy of a slice from a DataFrame.\n",
            "Try using .loc[row_indexer,col_indexer] = value instead\n",
            "\n",
            "See the caveats in the documentation: https://pandas.pydata.org/pandas-docs/stable/user_guide/indexing.html#returning-a-view-versus-a-copy\n",
            "  if sys.path[0] == '':\n"
          ]
        }
      ]
    },
    {
      "cell_type": "code",
      "metadata": {
        "colab": {
          "base_uri": "https://localhost:8080/"
        },
        "id": "1BTj3gG_Hyb3",
        "outputId": "19478a8d-2bca-4318-a1b1-2bbb9402d573"
      },
      "source": [
        "FD_DATA.info()"
      ],
      "execution_count": 462,
      "outputs": [
        {
          "output_type": "stream",
          "name": "stdout",
          "text": [
            "<class 'pandas.core.frame.DataFrame'>\n",
            "Int64Index: 23343 entries, 0 to 23523\n",
            "Data columns (total 13 columns):\n",
            " #   Column                  Non-Null Count  Dtype  \n",
            "---  ------                  --------------  -----  \n",
            " 0   country                 23343 non-null  object \n",
            " 1   year                    23343 non-null  int64  \n",
            " 2   uniqueid                23343 non-null  object \n",
            " 3   has_a_bank_account      23343 non-null  object \n",
            " 4   type_of_location        23343 non-null  object \n",
            " 5   cell_phone_access       23343 non-null  object \n",
            " 6   household_size          23343 non-null  int64  \n",
            " 7   respondent_age          23343 non-null  float64\n",
            " 8   gender_of_respondent    23343 non-null  object \n",
            " 9   relationship_with_head  23343 non-null  object \n",
            " 10  marital_status          23343 non-null  object \n",
            " 11  level_of_education      23343 non-null  object \n",
            " 12  type_of_job             23343 non-null  object \n",
            "dtypes: float64(1), int64(2), object(10)\n",
            "memory usage: 2.5+ MB\n"
          ]
        }
      ]
    },
    {
      "cell_type": "markdown",
      "metadata": {
        "id": "Vcy6JRLH3Dl5"
      },
      "source": [
        "### Checking for and dealing with outliers"
      ]
    },
    {
      "cell_type": "code",
      "metadata": {
        "colab": {
          "base_uri": "https://localhost:8080/",
          "height": 283
        },
        "id": "ATJoWv4N-FDd",
        "outputId": "c0f650df-91cb-4610-f50b-43829ff541f0"
      },
      "source": [
        "FD_DATA.boxplot()"
      ],
      "execution_count": 463,
      "outputs": [
        {
          "output_type": "execute_result",
          "data": {
            "text/plain": [
              "<matplotlib.axes._subplots.AxesSubplot at 0x7f5aac9575d0>"
            ]
          },
          "metadata": {},
          "execution_count": 463
        },
        {
          "output_type": "display_data",
          "data": {
            "image/png": "[encoded data removed]",
            "text/plain": [
              "<Figure size 432x288 with 1 Axes>"
            ]
          },
          "metadata": {}
        }
      ]
    },
    {
      "cell_type": "code",
      "metadata": {
        "colab": {
          "base_uri": "https://localhost:8080/",
          "height": 350
        },
        "id": "lBXP9MvP_Q9Z",
        "outputId": "9b2032a9-2ae7-40b0-eb75-689569963f8c"
      },
      "source": [
        "sns.boxplot(FD_DATA.year)"
      ],
      "execution_count": 464,
      "outputs": [
        {
          "output_type": "stream",
          "name": "stderr",
          "text": [
            "/usr/local/lib/python3.7/dist-packages/seaborn/_decorators.py:43: FutureWarning: Pass the following variable as a keyword arg: x. From version 0.12, the only valid positional argument will be `data`, and passing other arguments without an explicit keyword will result in an error or misinterpretation.\n",
            "  FutureWarning\n"
          ]
        },
        {
          "output_type": "execute_result",
          "data": {
            "text/plain": [
              "<matplotlib.axes._subplots.AxesSubplot at 0x7f5aac28fd50>"
            ]
          },
          "metadata": {},
          "execution_count": 464
        },
        {
          "output_type": "display_data",
          "data": {
            "image/png": "[encoded data removed]",
            "text/plain": [
              "<Figure size 432x288 with 1 Axes>"
            ]
          },
          "metadata": {}
        }
      ]
    },
    {
      "cell_type": "code",
      "metadata": {
        "colab": {
          "base_uri": "https://localhost:8080/",
          "height": 351
        },
        "id": "TyDAyq2i_Zv2",
        "outputId": "da076960-381b-42fa-d9c6-da70f419c014"
      },
      "source": [
        "sns.boxplot(FD_DATA.household_size)"
      ],
      "execution_count": 465,
      "outputs": [
        {
          "output_type": "stream",
          "name": "stderr",
          "text": [
            "/usr/local/lib/python3.7/dist-packages/seaborn/_decorators.py:43: FutureWarning: Pass the following variable as a keyword arg: x. From version 0.12, the only valid positional argument will be `data`, and passing other arguments without an explicit keyword will result in an error or misinterpretation.\n",
            "  FutureWarning\n"
          ]
        },
        {
          "output_type": "execute_result",
          "data": {
            "text/plain": [
              "<matplotlib.axes._subplots.AxesSubplot at 0x7f5aac217090>"
            ]
          },
          "metadata": {},
          "execution_count": 465
        },
        {
          "output_type": "display_data",
          "data": {
            "image/png": "[encoded data removed]",
            "text/plain": [
              "<Figure size 432x288 with 1 Axes>"
            ]
          },
          "metadata": {}
        }
      ]
    },
    {
      "cell_type": "code",
      "metadata": {
        "colab": {
          "base_uri": "https://localhost:8080/",
          "height": 351
        },
        "id": "9uAW4NO7_hCG",
        "outputId": "eebc7584-5909-4dd8-d4a1-c582868b0bf6"
      },
      "source": [
        "sns.boxplot(FD_DATA.respondent_age)"
      ],
      "execution_count": 466,
      "outputs": [
        {
          "output_type": "stream",
          "name": "stderr",
          "text": [
            "/usr/local/lib/python3.7/dist-packages/seaborn/_decorators.py:43: FutureWarning: Pass the following variable as a keyword arg: x. From version 0.12, the only valid positional argument will be `data`, and passing other arguments without an explicit keyword will result in an error or misinterpretation.\n",
            "  FutureWarning\n"
          ]
        },
        {
          "output_type": "execute_result",
          "data": {
            "text/plain": [
              "<matplotlib.axes._subplots.AxesSubplot at 0x7f5aac2382d0>"
            ]
          },
          "metadata": {},
          "execution_count": 466
        },
        {
          "output_type": "display_data",
          "data": {
            "image/png": "[encoded data removed]",
            "text/plain": [
              "<Figure size 432x288 with 1 Axes>"
            ]
          },
          "metadata": {}
        }
      ]
    },
    {
      "cell_type": "code",
      "metadata": {
        "colab": {
          "base_uri": "https://localhost:8080/"
        },
        "id": "DczgGQb2DMoZ",
        "outputId": "0b83fdcf-4efe-46b5-9340-88ca264b6e80"
      },
      "source": [
        "# DEALING WITH THE OUTLIERS\n",
        "\n",
        "# IQR Score \n",
        "# Anything not in the range of \n",
        "# (Q1 - 1.5 IQR) and (Q3 + 1.5 IQR) is an outlier, and can be removed.\n",
        "\n",
        "\n",
        "# Indicating the 1st and 3rd quantiles and the IQR\n",
        "\n",
        "Q1 = FD_DATA.quantile(0.25)\n",
        "Q3 = FD_DATA.quantile(0.75)\n",
        "IQR = Q3 - Q1\n",
        "\n",
        "# Removing outliers based on the IQR range and stores the result in the data frame 'FD_DATA1'\n",
        "\n",
        "FD_DATA_ = FD_DATA[~((FD_DATA < (Q1 - 1.5 * IQR)) | (FD_DATA > (Q3 + 1.5 * IQR))).any(axis=1)]\n",
        "\n",
        "# Dataset after removing the outliers\n",
        "\n",
        "print(FD_DATA_.shape)\n",
        "\n",
        "# Dataset with outliers\n",
        "\n",
        "print(FD_DATA.shape)"
      ],
      "execution_count": 467,
      "outputs": [
        {
          "output_type": "stream",
          "name": "stdout",
          "text": [
            "(22725, 13)\n",
            "(23343, 13)\n"
          ]
        }
      ]
    },
    {
      "cell_type": "code",
      "metadata": {
        "colab": {
          "base_uri": "https://localhost:8080/",
          "height": 283
        },
        "id": "jg1Hmf4EN2tk",
        "outputId": "35b84c13-2346-46ed-b211-afc30ed6c1b0"
      },
      "source": [
        "FD_DATA_.boxplot()"
      ],
      "execution_count": 468,
      "outputs": [
        {
          "output_type": "execute_result",
          "data": {
            "text/plain": [
              "<matplotlib.axes._subplots.AxesSubplot at 0x7f5aad097c50>"
            ]
          },
          "metadata": {},
          "execution_count": 468
        },
        {
          "output_type": "display_data",
          "data": {
            "image/png": "[encoded data removed]",
            "text/plain": [
              "<Figure size 432x288 with 1 Axes>"
            ]
          },
          "metadata": {}
        }
      ]
    },
    {
      "cell_type": "code",
      "metadata": {
        "colab": {
          "base_uri": "https://localhost:8080/",
          "height": 351
        },
        "id": "06GY3SbMOAg4",
        "outputId": "2f3b9c9b-8d07-4263-92f5-c26a2116c260"
      },
      "source": [
        "#print(sns.boxplot(FD_DATA1.year))\n",
        "#print(sns.boxplot(FD_DATA1.household_size))\n",
        "print(sns.boxplot(FD_DATA_.respondent_age))"
      ],
      "execution_count": 469,
      "outputs": [
        {
          "output_type": "stream",
          "name": "stderr",
          "text": [
            "/usr/local/lib/python3.7/dist-packages/seaborn/_decorators.py:43: FutureWarning: Pass the following variable as a keyword arg: x. From version 0.12, the only valid positional argument will be `data`, and passing other arguments without an explicit keyword will result in an error or misinterpretation.\n",
            "  FutureWarning\n"
          ]
        },
        {
          "output_type": "stream",
          "name": "stdout",
          "text": [
            "AxesSubplot(0.125,0.125;0.775x0.755)\n"
          ]
        },
        {
          "output_type": "display_data",
          "data": {
            "image/png": "[encoded data removed]",
            "text/plain": [
              "<Figure size 432x288 with 1 Axes>"
            ]
          },
          "metadata": {}
        }
      ]
    },
    {
      "cell_type": "markdown",
      "metadata": {
        "id": "_fMsgvUrUpMu"
      },
      "source": [
        "### Checking for Anomalies"
      ]
    },
    {
      "cell_type": "code",
      "metadata": {
        "colab": {
          "base_uri": "https://localhost:8080/"
        },
        "id": "4WWM1F_qQ9bq",
        "outputId": "0add0ab5-eb6a-4aa1-c3af-47b8fa5f8430"
      },
      "source": [
        "print(FD_DATA_['year'].value_counts())\n",
        "\n",
        "print(FD_DATA_['level_of_education'].value_counts())\n",
        "\n",
        "print(FD_DATA_['cell_phone_access'].value_counts())\n",
        "\n",
        "print(FD_DATA_['household_size'].value_counts())\n",
        "\n",
        "print(FD_DATA_['has_a_bank_account'].value_counts())\n",
        "\n",
        "print(FD_DATA_['type_of_location'].value_counts())\n",
        "\n",
        "print(FD_DATA_['country'].value_counts())\n",
        "\n",
        "print(FD_DATA_['marital_status'].value_counts())\n",
        "\n",
        "print(FD_DATA_['type_of_job'].value_counts())\n",
        "\n",
        "print(FD_DATA_['respondent_age'].value_counts())\n",
        "\n",
        "print(FD_DATA_['gender_of_respondent'].value_counts())\n",
        "\n",
        "print(FD_DATA_['relationship_with_head'].value_counts())\n"
      ],
      "execution_count": 470,
      "outputs": [
        {
          "output_type": "stream",
          "name": "stdout",
          "text": [
            "2016    8512\n",
            "2018    7789\n",
            "2017    6424\n",
            "Name: year, dtype: int64\n",
            "Primary education                  12443\n",
            "No formal education                 4232\n",
            "Secondary education                 4100\n",
            "Tertiary education                  1134\n",
            "Vocational/Specialised training      785\n",
            "6                                     25\n",
            "Other/Dont know/RTA                    6\n",
            "Name: level_of_education, dtype: int64\n",
            "Yes    16985\n",
            "No      5740\n",
            "Name: cell_phone_access, dtype: int64\n",
            "2    5008\n",
            "1    3847\n",
            "3    3474\n",
            "4    3178\n",
            "5    2704\n",
            "6    2020\n",
            "7    1374\n",
            "8     740\n",
            "9     353\n",
            "0      27\n",
            "Name: household_size, dtype: int64\n",
            "No     19490\n",
            "Yes     3235\n",
            "Name: has_a_bank_account, dtype: int64\n",
            "Rural    13810\n",
            "Urban     8915\n",
            "Name: type_of_location, dtype: int64\n",
            "Rwanda      8512\n",
            "Tanzania    6424\n",
            "Kenya       5868\n",
            "Uganda      1921\n",
            "Name: country, dtype: int64\n",
            "Married/Living together    10431\n",
            "Single/Never Married        7748\n",
            "Widowed                     2509\n",
            "Divorced/Seperated          2029\n",
            "Dont know                      8\n",
            "Name: marital_status, dtype: int64\n",
            "Self employed                   6209\n",
            "Informally employed             5490\n",
            "Farming and Fishing             5296\n",
            "Remittance Dependent            2375\n",
            "Formally employed Private       1035\n",
            "Other Income                    1026\n",
            "No Income                        585\n",
            "Formally employed Government     382\n",
            "Government Dependent             209\n",
            "Dont Know/Refuse to answer       118\n",
            "Name: type_of_job, dtype: int64\n",
            "30.0    1036\n",
            "35.0     823\n",
            "25.0     773\n",
            "28.0     737\n",
            "32.0     699\n",
            "        ... \n",
            "79.0      57\n",
            "77.0      56\n",
            "82.0      40\n",
            "83.0      33\n",
            "81.0      24\n",
            "Name: respondent_age, Length: 68, dtype: int64\n",
            "Female    13397\n",
            "Male       9328\n",
            "Name: gender_of_respondent, dtype: int64\n",
            "Head of Household      12402\n",
            "Spouse                  6361\n",
            "Child                   2131\n",
            "Parent                  1011\n",
            "Other relative           640\n",
            "Other non-relatives      180\n",
            "Name: relationship_with_head, dtype: int64\n"
          ]
        }
      ]
    },
    {
      "cell_type": "code",
      "metadata": {
        "id": "n_ehI2TnD6Hg"
      },
      "source": [
        "FD_DATA1 = FD_DATA_[(FD_DATA_['level_of_education'] != \"6\")]"
      ],
      "execution_count": 471,
      "outputs": []
    },
    {
      "cell_type": "code",
      "metadata": {
        "colab": {
          "base_uri": "https://localhost:8080/"
        },
        "id": "5AdyYsCNELz7",
        "outputId": "9645d4db-4d62-4e81-a3e4-a4f06b308d75"
      },
      "source": [
        "FD_DATA1.info()"
      ],
      "execution_count": 472,
      "outputs": [
        {
          "output_type": "stream",
          "name": "stdout",
          "text": [
            "<class 'pandas.core.frame.DataFrame'>\n",
            "Int64Index: 22700 entries, 0 to 23522\n",
            "Data columns (total 13 columns):\n",
            " #   Column                  Non-Null Count  Dtype  \n",
            "---  ------                  --------------  -----  \n",
            " 0   country                 22700 non-null  object \n",
            " 1   year                    22700 non-null  int64  \n",
            " 2   uniqueid                22700 non-null  object \n",
            " 3   has_a_bank_account      22700 non-null  object \n",
            " 4   type_of_location        22700 non-null  object \n",
            " 5   cell_phone_access       22700 non-null  object \n",
            " 6   household_size          22700 non-null  int64  \n",
            " 7   respondent_age          22700 non-null  float64\n",
            " 8   gender_of_respondent    22700 non-null  object \n",
            " 9   relationship_with_head  22700 non-null  object \n",
            " 10  marital_status          22700 non-null  object \n",
            " 11  level_of_education      22700 non-null  object \n",
            " 12  type_of_job             22700 non-null  object \n",
            "dtypes: float64(1), int64(2), object(10)\n",
            "memory usage: 2.4+ MB\n"
          ]
        }
      ]
    },
    {
      "cell_type": "code",
      "metadata": {
        "colab": {
          "base_uri": "https://localhost:8080/"
        },
        "id": "SR3thKFCF3no",
        "outputId": "339d9418-0779-4ae8-8534-43089766340d"
      },
      "source": [
        "print(FD_DATA1['level_of_education'].value_counts())"
      ],
      "execution_count": 473,
      "outputs": [
        {
          "output_type": "stream",
          "name": "stdout",
          "text": [
            "Primary education                  12443\n",
            "No formal education                 4232\n",
            "Secondary education                 4100\n",
            "Tertiary education                  1134\n",
            "Vocational/Specialised training      785\n",
            "Other/Dont know/RTA                    6\n",
            "Name: level_of_education, dtype: int64\n"
          ]
        }
      ]
    },
    {
      "cell_type": "markdown",
      "metadata": {
        "id": "WspPo3Z7PCRP"
      },
      "source": [
        "## iii. Descriptive Analysis "
      ]
    },
    {
      "cell_type": "markdown",
      "metadata": {
        "id": "IxgTFekmZHaK"
      },
      "source": [
        "#### 1. Univariate Analysis"
      ]
    },
    {
      "cell_type": "code",
      "metadata": {
        "colab": {
          "base_uri": "https://localhost:8080/",
          "height": 297
        },
        "id": "BSvD6B41-p28",
        "outputId": "eeb3f935-ad9c-4dee-8440-a3cf2f07cf76"
      },
      "source": [
        "# Showing the descriptive statistics for the numerical measures\n",
        "#\n",
        "FD_DATA1.describe()"
      ],
      "execution_count": 474,
      "outputs": [
        {
          "output_type": "execute_result",
          "data": {
            "text/html": [
              "<div>\n",
              "<style scoped>\n",
              "    .dataframe tbody tr th:only-of-type {\n",
              "        vertical-align: middle;\n",
              "    }\n",
              "\n",
              "    .dataframe tbody tr th {\n",
              "        vertical-align: top;\n",
              "    }\n",
              "\n",
              "    .dataframe thead th {\n",
              "        text-align: right;\n",
              "    }\n",
              "</style>\n",
              "<table border=\"1\" class=\"dataframe\">\n",
              "  <thead>\n",
              "    <tr style=\"text-align: right;\">\n",
              "      <th></th>\n",
              "      <th>year</th>\n",
              "      <th>household_size</th>\n",
              "      <th>respondent_age</th>\n",
              "    </tr>\n",
              "  </thead>\n",
              "  <tbody>\n",
              "    <tr>\n",
              "      <th>count</th>\n",
              "      <td>22700.000000</td>\n",
              "      <td>22700.000000</td>\n",
              "      <td>22700.000000</td>\n",
              "    </tr>\n",
              "    <tr>\n",
              "      <th>mean</th>\n",
              "      <td>2016.968678</td>\n",
              "      <td>3.579868</td>\n",
              "      <td>38.334714</td>\n",
              "    </tr>\n",
              "    <tr>\n",
              "      <th>std</th>\n",
              "      <td>0.846278</td>\n",
              "      <td>2.080479</td>\n",
              "      <td>15.797801</td>\n",
              "    </tr>\n",
              "    <tr>\n",
              "      <th>min</th>\n",
              "      <td>2016.000000</td>\n",
              "      <td>0.000000</td>\n",
              "      <td>16.000000</td>\n",
              "    </tr>\n",
              "    <tr>\n",
              "      <th>25%</th>\n",
              "      <td>2016.000000</td>\n",
              "      <td>2.000000</td>\n",
              "      <td>26.000000</td>\n",
              "    </tr>\n",
              "    <tr>\n",
              "      <th>50%</th>\n",
              "      <td>2017.000000</td>\n",
              "      <td>3.000000</td>\n",
              "      <td>35.000000</td>\n",
              "    </tr>\n",
              "    <tr>\n",
              "      <th>75%</th>\n",
              "      <td>2018.000000</td>\n",
              "      <td>5.000000</td>\n",
              "      <td>48.000000</td>\n",
              "    </tr>\n",
              "    <tr>\n",
              "      <th>max</th>\n",
              "      <td>2018.000000</td>\n",
              "      <td>9.000000</td>\n",
              "      <td>83.000000</td>\n",
              "    </tr>\n",
              "  </tbody>\n",
              "</table>\n",
              "</div>"
            ],
            "text/plain": [
              "               year  household_size  respondent_age\n",
              "count  22700.000000    22700.000000    22700.000000\n",
              "mean    2016.968678        3.579868       38.334714\n",
              "std        0.846278        2.080479       15.797801\n",
              "min     2016.000000        0.000000       16.000000\n",
              "25%     2016.000000        2.000000       26.000000\n",
              "50%     2017.000000        3.000000       35.000000\n",
              "75%     2018.000000        5.000000       48.000000\n",
              "max     2018.000000        9.000000       83.000000"
            ]
          },
          "metadata": {},
          "execution_count": 474
        }
      ]
    },
    {
      "cell_type": "code",
      "metadata": {
        "colab": {
          "base_uri": "https://localhost:8080/"
        },
        "id": "WKrWeGOiYi5G",
        "outputId": "a94a9c9c-86b6-41c0-bb15-024754cbbecc"
      },
      "source": [
        "FD_DATA1['household_size'].skew()"
      ],
      "execution_count": 535,
      "outputs": [
        {
          "output_type": "execute_result",
          "data": {
            "text/plain": [
              "0.606110414061203"
            ]
          },
          "metadata": {},
          "execution_count": 535
        }
      ]
    },
    {
      "cell_type": "code",
      "metadata": {
        "colab": {
          "base_uri": "https://localhost:8080/"
        },
        "id": "JQLFufg9YvrO",
        "outputId": "890db1a7-db77-4fc4-fd60-81721e7b9fb9"
      },
      "source": [
        "FD_DATA1['respondent_age'].skew()"
      ],
      "execution_count": 536,
      "outputs": [
        {
          "output_type": "execute_result",
          "data": {
            "text/plain": [
              "0.7406257530452783"
            ]
          },
          "metadata": {},
          "execution_count": 536
        }
      ]
    },
    {
      "cell_type": "code",
      "metadata": {
        "colab": {
          "base_uri": "https://localhost:8080/"
        },
        "id": "gHPYfWjDYzQU",
        "outputId": "63fd682f-9f93-476c-b477-3570bd3309da"
      },
      "source": [
        "FD_DATA1['household_size'].kurt()"
      ],
      "execution_count": 537,
      "outputs": [
        {
          "output_type": "execute_result",
          "data": {
            "text/plain": [
              "-0.504804932649868"
            ]
          },
          "metadata": {},
          "execution_count": 537
        }
      ]
    },
    {
      "cell_type": "code",
      "metadata": {
        "colab": {
          "base_uri": "https://localhost:8080/"
        },
        "id": "vvCMf_MXY41V",
        "outputId": "280f06b3-155b-45e0-c52d-2b08295c2d47"
      },
      "source": [
        "FD_DATA1['respondent_age'].kurt()"
      ],
      "execution_count": 538,
      "outputs": [
        {
          "output_type": "execute_result",
          "data": {
            "text/plain": [
              "-0.2359419668569922"
            ]
          },
          "metadata": {},
          "execution_count": 538
        }
      ]
    },
    {
      "cell_type": "code",
      "metadata": {
        "colab": {
          "base_uri": "https://localhost:8080/",
          "height": 822
        },
        "id": "TjLRUVNgDLnE",
        "outputId": "5868ab63-8fd0-4af3-9d7b-ff15eb1515ef"
      },
      "source": [
        "#Plotting the univariate distribution of the numerical measures\n",
        "\n",
        "col_names = ['year', 'household_size', 'respondent_age']\n",
        "fig, ax = plt.subplots(len(col_names), figsize=(16,12))\n",
        "for i, col_val in enumerate(col_names):\n",
        "  sns.distplot(FD_DATA1[col_val], ax=ax[i], bins=10, hist=True)\n",
        "  ax[i].set_title('Freq dist '+col_val, fontsize=10)\n",
        "  ax[i].set_xlabel(col_val, fontsize=8)\n",
        "  ax[i].set_ylabel('Count', fontsize=8)\n",
        "\n",
        "plt.show()"
      ],
      "execution_count": 475,
      "outputs": [
        {
          "output_type": "stream",
          "name": "stderr",
          "text": [
            "/usr/local/lib/python3.7/dist-packages/seaborn/distributions.py:2619: FutureWarning: `distplot` is a deprecated function and will be removed in a future version. Please adapt your code to use either `displot` (a figure-level function with similar flexibility) or `histplot` (an axes-level function for histograms).\n",
            "  warnings.warn(msg, FutureWarning)\n",
            "/usr/local/lib/python3.7/dist-packages/seaborn/distributions.py:2619: FutureWarning: `distplot` is a deprecated function and will be removed in a future version. Please adapt your code to use either `displot` (a figure-level function with similar flexibility) or `histplot` (an axes-level function for histograms).\n",
            "  warnings.warn(msg, FutureWarning)\n",
            "/usr/local/lib/python3.7/dist-packages/seaborn/distributions.py:2619: FutureWarning: `distplot` is a deprecated function and will be removed in a future version. Please adapt your code to use either `displot` (a figure-level function with similar flexibility) or `histplot` (an axes-level function for histograms).\n",
            "  warnings.warn(msg, FutureWarning)\n"
          ]
        },
        {
          "output_type": "display_data",
          "data": {
            "image/png": "[encoded data removed]",
            "text/plain": [
              "<Figure size 1152x864 with 3 Axes>"
            ]
          },
          "metadata": {}
        }
      ]
    },
    {
      "cell_type": "code",
      "metadata": {
        "colab": {
          "base_uri": "https://localhost:8080/",
          "height": 380
        },
        "id": "7r0oCdugQW5x",
        "outputId": "57792585-2764-4abc-deef-f90926846f81"
      },
      "source": [
        "print(FD_DATA1.country.value_counts())\n",
        "FD_DATA1.country.value_counts().index\n",
        "sns.countplot(x= 'country', data=FD_DATA1, order=FD_DATA1.country.value_counts().index,\n",
        "palette='twilight',ec='black',hatch='/',lw=3)\n",
        "plt.title(\"Frequency distribution of Countries\" )\n",
        "plt.show()"
      ],
      "execution_count": 476,
      "outputs": [
        {
          "output_type": "stream",
          "name": "stdout",
          "text": [
            "Rwanda      8495\n",
            "Tanzania    6421\n",
            "Kenya       5868\n",
            "Uganda      1916\n",
            "Name: country, dtype: int64\n"
          ]
        },
        {
          "output_type": "display_data",
          "data": {
            "image/png": "[encoded data removed]",
            "text/plain": [
              "<Figure size 432x288 with 1 Axes>"
            ]
          },
          "metadata": {}
        }
      ]
    },
    {
      "cell_type": "code",
      "metadata": {
        "colab": {
          "base_uri": "https://localhost:8080/",
          "height": 347
        },
        "id": "B8BL9jhP5EE1",
        "outputId": "2125e3af-1cf6-4351-9dbc-54160a82aa0b"
      },
      "source": [
        "print(FD_DATA1.has_a_bank_account.value_counts())\n",
        "FD_DATA1.has_a_bank_account.value_counts().index\n",
        "sns.countplot(x= 'has_a_bank_account', data=FD_DATA1, order=FD_DATA1.has_a_bank_account.value_counts().index,\n",
        "palette='colorblind',ec='black',hatch='/',lw=3)\n",
        "plt.title(\"Frequency of Individuals with bank account\" )\n",
        "plt.show()"
      ],
      "execution_count": 477,
      "outputs": [
        {
          "output_type": "stream",
          "name": "stdout",
          "text": [
            "No     19470\n",
            "Yes     3230\n",
            "Name: has_a_bank_account, dtype: int64\n"
          ]
        },
        {
          "output_type": "display_data",
          "data": {
            "image/png": "[encoded data removed]",
            "text/plain": [
              "<Figure size 432x288 with 1 Axes>"
            ]
          },
          "metadata": {}
        }
      ]
    },
    {
      "cell_type": "code",
      "metadata": {
        "colab": {
          "base_uri": "https://localhost:8080/",
          "height": 347
        },
        "id": "03odcueq5pbk",
        "outputId": "ad760913-5ceb-466f-c6ae-51ca7ff52865"
      },
      "source": [
        "print(FD_DATA1.type_of_location.value_counts())\n",
        "FD_DATA1.type_of_location.value_counts().index\n",
        "sns.countplot(x= 'type_of_location', data=FD_DATA1, order=FD_DATA1.type_of_location.value_counts().index,\n",
        "palette='bright',ec='black',hatch='/',lw=3)\n",
        "plt.title(\"Frequency of Location\" )\n",
        "plt.show()"
      ],
      "execution_count": 478,
      "outputs": [
        {
          "output_type": "stream",
          "name": "stdout",
          "text": [
            "Rural    13796\n",
            "Urban     8904\n",
            "Name: type_of_location, dtype: int64\n"
          ]
        },
        {
          "output_type": "display_data",
          "data": {
            "image/png": "[encoded data removed]",
            "text/plain": [
              "<Figure size 432x288 with 1 Axes>"
            ]
          },
          "metadata": {}
        }
      ]
    },
    {
      "cell_type": "code",
      "metadata": {
        "colab": {
          "base_uri": "https://localhost:8080/",
          "height": 347
        },
        "id": "zWErV9Gy56x_",
        "outputId": "7bedd91b-a6d8-41f6-8eef-5e301d5474fe"
      },
      "source": [
        "print(FD_DATA1.cell_phone_access.value_counts())\n",
        "FD_DATA1.cell_phone_access.value_counts().index\n",
        "sns.countplot(x= 'cell_phone_access', data=FD_DATA1, order=FD_DATA1.cell_phone_access.value_counts().index,\n",
        "palette='mako',ec='black',hatch='/',lw=3)\n",
        "plt.title(\"Cell phone access freq\" )\n",
        "plt.show()"
      ],
      "execution_count": 479,
      "outputs": [
        {
          "output_type": "stream",
          "name": "stdout",
          "text": [
            "Yes    16969\n",
            "No      5731\n",
            "Name: cell_phone_access, dtype: int64\n"
          ]
        },
        {
          "output_type": "display_data",
          "data": {
            "image/png": "[encoded data removed]",
            "text/plain": [
              "<Figure size 432x288 with 1 Axes>"
            ]
          },
          "metadata": {}
        }
      ]
    },
    {
      "cell_type": "code",
      "metadata": {
        "colab": {
          "base_uri": "https://localhost:8080/",
          "height": 347
        },
        "id": "dUbAciVN62li",
        "outputId": "66f3030c-9f08-40f9-e1e1-f3641c26149a"
      },
      "source": [
        "print(FD_DATA1.gender_of_respondent.value_counts())\n",
        "FD_DATA1.gender_of_respondent.value_counts().index\n",
        "sns.countplot(x= 'gender_of_respondent', data=FD_DATA1, order=FD_DATA1.gender_of_respondent.value_counts().index,\n",
        "palette='rocket',ec='black',hatch='/',lw=3)\n",
        "plt.title(\"Distribution by gender\" )\n",
        "plt.show()"
      ],
      "execution_count": 480,
      "outputs": [
        {
          "output_type": "stream",
          "name": "stdout",
          "text": [
            "Female    13379\n",
            "Male       9321\n",
            "Name: gender_of_respondent, dtype: int64\n"
          ]
        },
        {
          "output_type": "display_data",
          "data": {
            "image/png": "[encoded data removed]",
            "text/plain": [
              "<Figure size 432x288 with 1 Axes>"
            ]
          },
          "metadata": {}
        }
      ]
    },
    {
      "cell_type": "code",
      "metadata": {
        "colab": {
          "base_uri": "https://localhost:8080/",
          "height": 415
        },
        "id": "-9SWl5Dd7M87",
        "outputId": "8e2c1a9c-1f60-4405-c1a8-6f31d1067694"
      },
      "source": [
        "print(FD_DATA1.relationship_with_head.value_counts())\n",
        "FD_DATA1.relationship_with_head.value_counts().index\n",
        "sns.countplot(x= 'relationship_with_head', data=FD_DATA1, order=FD_DATA1.relationship_with_head.value_counts().index[::-1],\n",
        "palette='rocket',ec='black',hatch='/',lw=3 )\n",
        "plt.title(\"Distribution by relationship with head\" )\n",
        "plt.show()"
      ],
      "execution_count": 481,
      "outputs": [
        {
          "output_type": "stream",
          "name": "stdout",
          "text": [
            "Head of Household      12388\n",
            "Spouse                  6350\n",
            "Child                   2131\n",
            "Parent                  1011\n",
            "Other relative           640\n",
            "Other non-relatives      180\n",
            "Name: relationship_with_head, dtype: int64\n"
          ]
        },
        {
          "output_type": "display_data",
          "data": {
            "image/png": "[encoded data removed]",
            "text/plain": [
              "<Figure size 432x288 with 1 Axes>"
            ]
          },
          "metadata": {}
        }
      ]
    },
    {
      "cell_type": "code",
      "metadata": {
        "colab": {
          "base_uri": "https://localhost:8080/",
          "height": 398
        },
        "id": "vFKg8sS07N8V",
        "outputId": "f1663df3-3c83-401d-a7b7-9feab0f30c74"
      },
      "source": [
        "print(FD_DATA1.marital_status.value_counts())\n",
        "FD_DATA1.marital_status.value_counts().index\n",
        "sns.countplot(x= 'marital_status', data=FD_DATA1, order=FD_DATA1.marital_status.value_counts().index[::-1],\n",
        "palette='Accent',ec='black',hatch='-',lw=3)\n",
        "plt.title(\"Distribution by marital status\" )\n",
        "plt.show()"
      ],
      "execution_count": 482,
      "outputs": [
        {
          "output_type": "stream",
          "name": "stdout",
          "text": [
            "Married/Living together    10416\n",
            "Single/Never Married        7746\n",
            "Widowed                     2503\n",
            "Divorced/Seperated          2027\n",
            "Dont know                      8\n",
            "Name: marital_status, dtype: int64\n"
          ]
        },
        {
          "output_type": "display_data",
          "data": {
            "image/png": "[encoded data removed]",
            "text/plain": [
              "<Figure size 432x288 with 1 Axes>"
            ]
          },
          "metadata": {}
        }
      ]
    },
    {
      "cell_type": "code",
      "metadata": {
        "colab": {
          "base_uri": "https://localhost:8080/",
          "height": 415
        },
        "id": "cpC7rdBm7Om3",
        "outputId": "9b223f54-a746-44fe-f431-72f2dc207f35"
      },
      "source": [
        "print(FD_DATA1.level_of_education.value_counts())\n",
        "FD_DATA1.level_of_education.value_counts().index\n",
        "sns.countplot(x= 'level_of_education', data=FD_DATA1, order=FD_DATA1.level_of_education.value_counts().index,\n",
        "palette='magma',ec='black',hatch='.',lw=3)\n",
        "plt.title(\"Distribution by education level\" )\n",
        "plt.show()"
      ],
      "execution_count": 483,
      "outputs": [
        {
          "output_type": "stream",
          "name": "stdout",
          "text": [
            "Primary education                  12443\n",
            "No formal education                 4232\n",
            "Secondary education                 4100\n",
            "Tertiary education                  1134\n",
            "Vocational/Specialised training      785\n",
            "Other/Dont know/RTA                    6\n",
            "Name: level_of_education, dtype: int64\n"
          ]
        },
        {
          "output_type": "display_data",
          "data": {
            "image/png": "[encoded data removed]",
            "text/plain": [
              "<Figure size 432x288 with 1 Axes>"
            ]
          },
          "metadata": {}
        }
      ]
    },
    {
      "cell_type": "code",
      "metadata": {
        "colab": {
          "base_uri": "https://localhost:8080/",
          "height": 483
        },
        "id": "anZt35GJ9GHz",
        "outputId": "be1f8db3-266a-4c65-b9b8-15f51cfb63e8"
      },
      "source": [
        "print(FD_DATA1.type_of_job.value_counts())\n",
        "FD_DATA1.type_of_job.value_counts().index\n",
        "sns.countplot(x= 'type_of_job', data=FD_DATA1, order=FD_DATA1.type_of_job.value_counts().index,\n",
        "palette='magma',ec='black',hatch='.',lw=3)\n",
        "plt.title(\"Freq by type of job\" )\n",
        "plt.show()"
      ],
      "execution_count": 484,
      "outputs": [
        {
          "output_type": "stream",
          "name": "stdout",
          "text": [
            "Self employed                   6206\n",
            "Informally employed             5476\n",
            "Farming and Fishing             5296\n",
            "Remittance Dependent            2373\n",
            "Formally employed Private       1034\n",
            "Other Income                    1025\n",
            "No Income                        582\n",
            "Formally employed Government     382\n",
            "Government Dependent             208\n",
            "Dont Know/Refuse to answer       118\n",
            "Name: type_of_job, dtype: int64\n"
          ]
        },
        {
          "output_type": "display_data",
          "data": {
            "image/png": "[encoded data removed]",
            "text/plain": [
              "<Figure size 432x288 with 1 Axes>"
            ]
          },
          "metadata": {}
        }
      ]
    },
    {
      "cell_type": "markdown",
      "metadata": {
        "id": "P0z7CJoP-kL9"
      },
      "source": [
        "#### 2. Bivariate Analysis"
      ]
    },
    {
      "cell_type": "markdown",
      "metadata": {
        "id": "2H1pxpXicHA5"
      },
      "source": [
        "Numerical and Numerical"
      ]
    },
    {
      "cell_type": "code",
      "metadata": {
        "colab": {
          "base_uri": "https://localhost:8080/",
          "height": 550
        },
        "id": "6ueIO5mwIQ1C",
        "outputId": "e3fb23af-ffb9-4bbf-c5e2-94bf0bfd3854"
      },
      "source": [
        "# Ploting the bivariate summaries and recording our observations\n",
        "sns.pairplot(FD_DATA1)\n",
        "plt.show()"
      ],
      "execution_count": 485,
      "outputs": [
        {
          "output_type": "display_data",
          "data": {
            "image/png": "[encoded data removed]",
            "text/plain": [
              "<Figure size 540x540 with 12 Axes>"
            ]
          },
          "metadata": {}
        }
      ]
    },
    {
      "cell_type": "code",
      "metadata": {
        "colab": {
          "base_uri": "https://localhost:8080/",
          "height": 270
        },
        "id": "kBNVB7IxQUMo",
        "outputId": "940c03bc-24d1-4e0a-955b-57de0ac95ca9"
      },
      "source": [
        "sns.heatmap(FD_DATA1.corr(),annot=True)\n",
        "plt.show()"
      ],
      "execution_count": 486,
      "outputs": [
        {
          "output_type": "display_data",
          "data": {
            "image/png": "[encoded data removed]",
            "text/plain": [
              "<Figure size 432x288 with 2 Axes>"
            ]
          },
          "metadata": {}
        }
      ]
    },
    {
      "cell_type": "markdown",
      "metadata": {
        "id": "fwuBY5ehMLRL"
      },
      "source": [
        "Calculating the pearson correlation coefficient\n",
        "\n",
        "Correlation coefficients between -.20 and .20 are generally considered weak, \n",
        "\n",
        "between .20 and .50 (positive or negative) are considered moderate, \n",
        "\n",
        "above .50 (positive or negative) are considered strong. "
      ]
    },
    {
      "cell_type": "code",
      "metadata": {
        "colab": {
          "base_uri": "https://localhost:8080/"
        },
        "id": "Wvx6NKetLWEE",
        "outputId": "760e44ee-f37f-4944-c184-3220a6e9fddd"
      },
      "source": [
        "#Calculating Correlation coefficients of household_size and year\n",
        "\n",
        "# Checking whether you have to define the pearson\n",
        "coeff = FD_DATA1[\"household_size\"].corr(FD_DATA1[\"year\"]) \n",
        "print(coeff)"
      ],
      "execution_count": 487,
      "outputs": [
        {
          "output_type": "stream",
          "name": "stdout",
          "text": [
            "-0.09647648821961918\n"
          ]
        }
      ]
    },
    {
      "cell_type": "code",
      "metadata": {
        "colab": {
          "base_uri": "https://localhost:8080/"
        },
        "id": "Bfw3ZXnNNO_e",
        "outputId": "ef63b422-cc6b-4dfd-f3a4-cace2f32476a"
      },
      "source": [
        "#Calculating Correlation coefficients of household_size and Respondent_Age\n",
        "\n",
        "pearson_coeff = FD_DATA1[\"household_size\"].corr(FD_DATA1[\"respondent_age\"], method=\"pearson\") \n",
        "print(pearson_coeff)\n"
      ],
      "execution_count": 488,
      "outputs": [
        {
          "output_type": "stream",
          "name": "stdout",
          "text": [
            "-0.10592193374201107\n"
          ]
        }
      ]
    },
    {
      "cell_type": "code",
      "metadata": {
        "colab": {
          "base_uri": "https://localhost:8080/"
        },
        "id": "fXG5CemkNXbU",
        "outputId": "4608da58-dac8-431c-dd59-8f0cb4ee4cea"
      },
      "source": [
        "#Calculating Correlation coefficients of year and Respondent_Age\n",
        "\n",
        "pearson_coeff = FD_DATA1[\"year\"].corr(FD_DATA1[\"respondent_age\"], method=\"pearson\") \n",
        "print(pearson_coeff)\n"
      ],
      "execution_count": 489,
      "outputs": [
        {
          "output_type": "stream",
          "name": "stdout",
          "text": [
            "-0.02273373140543905\n"
          ]
        }
      ]
    },
    {
      "cell_type": "code",
      "metadata": {
        "colab": {
          "base_uri": "https://localhost:8080/",
          "height": 142
        },
        "id": "B_Tso71-SM6m",
        "outputId": "e297615c-c68d-4ad7-fd47-3f5f0b3f337c"
      },
      "source": [
        "FD_DATA1.corr()"
      ],
      "execution_count": 490,
      "outputs": [
        {
          "output_type": "execute_result",
          "data": {
            "text/html": [
              "<div>\n",
              "<style scoped>\n",
              "    .dataframe tbody tr th:only-of-type {\n",
              "        vertical-align: middle;\n",
              "    }\n",
              "\n",
              "    .dataframe tbody tr th {\n",
              "        vertical-align: top;\n",
              "    }\n",
              "\n",
              "    .dataframe thead th {\n",
              "        text-align: right;\n",
              "    }\n",
              "</style>\n",
              "<table border=\"1\" class=\"dataframe\">\n",
              "  <thead>\n",
              "    <tr style=\"text-align: right;\">\n",
              "      <th></th>\n",
              "      <th>year</th>\n",
              "      <th>household_size</th>\n",
              "      <th>respondent_age</th>\n",
              "    </tr>\n",
              "  </thead>\n",
              "  <tbody>\n",
              "    <tr>\n",
              "      <th>year</th>\n",
              "      <td>1.000000</td>\n",
              "      <td>-0.096476</td>\n",
              "      <td>-0.022734</td>\n",
              "    </tr>\n",
              "    <tr>\n",
              "      <th>household_size</th>\n",
              "      <td>-0.096476</td>\n",
              "      <td>1.000000</td>\n",
              "      <td>-0.105922</td>\n",
              "    </tr>\n",
              "    <tr>\n",
              "      <th>respondent_age</th>\n",
              "      <td>-0.022734</td>\n",
              "      <td>-0.105922</td>\n",
              "      <td>1.000000</td>\n",
              "    </tr>\n",
              "  </tbody>\n",
              "</table>\n",
              "</div>"
            ],
            "text/plain": [
              "                    year  household_size  respondent_age\n",
              "year            1.000000       -0.096476       -0.022734\n",
              "household_size -0.096476        1.000000       -0.105922\n",
              "respondent_age -0.022734       -0.105922        1.000000"
            ]
          },
          "metadata": {},
          "execution_count": 490
        }
      ]
    },
    {
      "cell_type": "markdown",
      "metadata": {
        "id": "gdqehMsyQsUu"
      },
      "source": [
        "At this point, we can refine our question or collect new data, all in an iterative process to get at the truth.\n",
        "\n",
        "Did we have the right data?\n",
        "\n",
        "Do we need other data to answer our question?\n",
        "\n",
        "Did we have the right question?"
      ]
    },
    {
      "cell_type": "markdown",
      "metadata": {
        "id": "uzowfXvib60w"
      },
      "source": [
        "Categorical and categorical"
      ]
    },
    {
      "cell_type": "code",
      "metadata": {
        "colab": {
          "base_uri": "https://localhost:8080/",
          "height": 557
        },
        "id": "sGmMyKTeTbIO",
        "outputId": "c3d7b92d-f825-4540-e260-14ec5d339a7c"
      },
      "source": [
        "#We create a stacked bar chart through the use of the pyplot.bar() function to visualize the relationship between two categorical variables\n",
        "\n",
        "country_account=pd.crosstab(index=FD_DATA1['country'], columns=FD_DATA1['has_a_bank_account'],margins_name='Total')\n",
        "print(country_account)\n",
        "\n",
        "country_account.plot(kind='bar', figsize=(8, 6), stacked=True)\n",
        "\n",
        "plt.ylabel(\"Population\")\n",
        "\n",
        "plt.title(\"Has_a_Bank_account by Country\")"
      ],
      "execution_count": 491,
      "outputs": [
        {
          "output_type": "stream",
          "name": "stdout",
          "text": [
            "has_a_bank_account    No   Yes\n",
            "country                       \n",
            "Kenya               4377  1491\n",
            "Rwanda              7519   976\n",
            "Tanzania            5824   597\n",
            "Uganda              1750   166\n"
          ]
        },
        {
          "output_type": "execute_result",
          "data": {
            "text/plain": [
              "Text(0.5, 1.0, 'Has_a_Bank_account by Country')"
            ]
          },
          "metadata": {},
          "execution_count": 491
        },
        {
          "output_type": "display_data",
          "data": {
            "image/png": "[encoded data removed]",
            "text/plain": [
              "<Figure size 576x432 with 1 Axes>"
            ]
          },
          "metadata": {}
        }
      ]
    },
    {
      "cell_type": "code",
      "metadata": {
        "colab": {
          "base_uri": "https://localhost:8080/",
          "height": 702
        },
        "id": "azFXhEI3b4LH",
        "outputId": "7be432e6-9665-4a24-d7b8-dc734636cbce"
      },
      "source": [
        "#We create a stacked bar chart through the use of the pyplot.bar() function to visualize the relationship between two categorical variables\n",
        "\n",
        "ed_account=pd.crosstab(index=FD_DATA1['level_of_education'], columns=FD_DATA1['has_a_bank_account'],margins_name='Total')\n",
        "print(ed_account)\n",
        "\n",
        "ed_account.plot(kind='bar', figsize=(8, 6), stacked=True)\n",
        "\n",
        "plt.ylabel(\"population\")\n",
        "\n",
        "plt.title(\"Has a Bank account by level of education\")"
      ],
      "execution_count": 492,
      "outputs": [
        {
          "output_type": "stream",
          "name": "stdout",
          "text": [
            "has_a_bank_account                  No   Yes\n",
            "level_of_education                          \n",
            "No formal education               4071   161\n",
            "Other/Dont know/RTA                  0     6\n",
            "Primary education                11382  1061\n",
            "Secondary education               3132   968\n",
            "Tertiary education                 550   584\n",
            "Vocational/Specialised training    335   450\n"
          ]
        },
        {
          "output_type": "execute_result",
          "data": {
            "text/plain": [
              "Text(0.5, 1.0, 'Has a Bank account by level of education')"
            ]
          },
          "metadata": {},
          "execution_count": 492
        },
        {
          "output_type": "display_data",
          "data": {
            "image/png": "[encoded data removed]",
            "text/plain": [
              "<Figure size 576x432 with 1 Axes>"
            ]
          },
          "metadata": {}
        }
      ]
    },
    {
      "cell_type": "markdown",
      "metadata": {
        "id": "Ih8xAP0APh4I"
      },
      "source": [
        "#### 3. Multivariate Analysis\n",
        "\n",
        "1.   PCA\n",
        "2.   FACTOR ANALYSIS\n",
        "3.   LDA\n",
        "\n"
      ]
    },
    {
      "cell_type": "markdown",
      "metadata": {
        "id": "16C5XmcfIOYs"
      },
      "source": [
        "**PCA**\n",
        "\n",
        "\n"
      ]
    },
    {
      "cell_type": "code",
      "metadata": {
        "colab": {
          "base_uri": "https://localhost:8080/",
          "height": 326
        },
        "id": "Zc0BFliHlDr0",
        "outputId": "4e0f064e-77c3-4c5b-80e0-eccc27fc9275"
      },
      "source": [
        "FD_DATA1.head()"
      ],
      "execution_count": 493,
      "outputs": [
        {
          "output_type": "execute_result",
          "data": {
            "text/html": [
              "<div>\n",
              "<style scoped>\n",
              "    .dataframe tbody tr th:only-of-type {\n",
              "        vertical-align: middle;\n",
              "    }\n",
              "\n",
              "    .dataframe tbody tr th {\n",
              "        vertical-align: top;\n",
              "    }\n",
              "\n",
              "    .dataframe thead th {\n",
              "        text-align: right;\n",
              "    }\n",
              "</style>\n",
              "<table border=\"1\" class=\"dataframe\">\n",
              "  <thead>\n",
              "    <tr style=\"text-align: right;\">\n",
              "      <th></th>\n",
              "      <th>country</th>\n",
              "      <th>year</th>\n",
              "      <th>uniqueid</th>\n",
              "      <th>has_a_bank_account</th>\n",
              "      <th>type_of_location</th>\n",
              "      <th>cell_phone_access</th>\n",
              "      <th>household_size</th>\n",
              "      <th>respondent_age</th>\n",
              "      <th>gender_of_respondent</th>\n",
              "      <th>relationship_with_head</th>\n",
              "      <th>marital_status</th>\n",
              "      <th>level_of_education</th>\n",
              "      <th>type_of_job</th>\n",
              "    </tr>\n",
              "  </thead>\n",
              "  <tbody>\n",
              "    <tr>\n",
              "      <th>0</th>\n",
              "      <td>Kenya</td>\n",
              "      <td>2018</td>\n",
              "      <td>uniqueid_1</td>\n",
              "      <td>Yes</td>\n",
              "      <td>Rural</td>\n",
              "      <td>Yes</td>\n",
              "      <td>3</td>\n",
              "      <td>24.0</td>\n",
              "      <td>Female</td>\n",
              "      <td>Spouse</td>\n",
              "      <td>Married/Living together</td>\n",
              "      <td>Secondary education</td>\n",
              "      <td>Self employed</td>\n",
              "    </tr>\n",
              "    <tr>\n",
              "      <th>1</th>\n",
              "      <td>Kenya</td>\n",
              "      <td>2018</td>\n",
              "      <td>uniqueid_2</td>\n",
              "      <td>No</td>\n",
              "      <td>Rural</td>\n",
              "      <td>No</td>\n",
              "      <td>5</td>\n",
              "      <td>70.0</td>\n",
              "      <td>Female</td>\n",
              "      <td>Head of Household</td>\n",
              "      <td>Widowed</td>\n",
              "      <td>No formal education</td>\n",
              "      <td>Government Dependent</td>\n",
              "    </tr>\n",
              "    <tr>\n",
              "      <th>2</th>\n",
              "      <td>Kenya</td>\n",
              "      <td>2018</td>\n",
              "      <td>uniqueid_3</td>\n",
              "      <td>Yes</td>\n",
              "      <td>Urban</td>\n",
              "      <td>Yes</td>\n",
              "      <td>5</td>\n",
              "      <td>26.0</td>\n",
              "      <td>Male</td>\n",
              "      <td>Other relative</td>\n",
              "      <td>Single/Never Married</td>\n",
              "      <td>Vocational/Specialised training</td>\n",
              "      <td>Self employed</td>\n",
              "    </tr>\n",
              "    <tr>\n",
              "      <th>3</th>\n",
              "      <td>Kenya</td>\n",
              "      <td>2018</td>\n",
              "      <td>uniqueid_4</td>\n",
              "      <td>No</td>\n",
              "      <td>Rural</td>\n",
              "      <td>Yes</td>\n",
              "      <td>5</td>\n",
              "      <td>34.0</td>\n",
              "      <td>Female</td>\n",
              "      <td>Head of Household</td>\n",
              "      <td>Married/Living together</td>\n",
              "      <td>Primary education</td>\n",
              "      <td>Formally employed Private</td>\n",
              "    </tr>\n",
              "    <tr>\n",
              "      <th>4</th>\n",
              "      <td>Kenya</td>\n",
              "      <td>2018</td>\n",
              "      <td>uniqueid_5</td>\n",
              "      <td>No</td>\n",
              "      <td>Urban</td>\n",
              "      <td>No</td>\n",
              "      <td>8</td>\n",
              "      <td>26.0</td>\n",
              "      <td>Male</td>\n",
              "      <td>Child</td>\n",
              "      <td>Single/Never Married</td>\n",
              "      <td>Primary education</td>\n",
              "      <td>Informally employed</td>\n",
              "    </tr>\n",
              "  </tbody>\n",
              "</table>\n",
              "</div>"
            ],
            "text/plain": [
              "  country  year  ...               level_of_education                type_of_job\n",
              "0   Kenya  2018  ...              Secondary education              Self employed\n",
              "1   Kenya  2018  ...              No formal education       Government Dependent\n",
              "2   Kenya  2018  ...  Vocational/Specialised training              Self employed\n",
              "3   Kenya  2018  ...                Primary education  Formally employed Private\n",
              "4   Kenya  2018  ...                Primary education        Informally employed\n",
              "\n",
              "[5 rows x 13 columns]"
            ]
          },
          "metadata": {},
          "execution_count": 493
        }
      ]
    },
    {
      "cell_type": "code",
      "metadata": {
        "id": "lIoKkE8WlS-u"
      },
      "source": [
        "#Preprocessing\n",
        "X = FD_DATA1.drop('has_a_bank_account', 1)\n",
        "y = FD_DATA1['has_a_bank_account']"
      ],
      "execution_count": 494,
      "outputs": []
    },
    {
      "cell_type": "code",
      "metadata": {
        "id": "VLszjW75lidl"
      },
      "source": [
        "#Splitting the dataset into the Training set and Test set\n",
        "from sklearn.model_selection import train_test_split\n",
        "\n",
        "X_train, X_test, y_train, y_test = train_test_split(X, y, test_size=0.2, random_state=0)"
      ],
      "execution_count": 495,
      "outputs": []
    },
    {
      "cell_type": "code",
      "metadata": {
        "id": "M5f-l82Yd076"
      },
      "source": [
        "#Normalization\n",
        "from sklearn.preprocessing import StandardScaler\n",
        "sc = StandardScaler()\n",
        "X_train = sc.fit(FD_DATA1[['household_size', 'respondent_age']])\n",
        "X_test = sc.transform(FD_DATA1[['household_size', 'respondent_age']])"
      ],
      "execution_count": 496,
      "outputs": []
    },
    {
      "cell_type": "code",
      "metadata": {
        "id": "b2Lc-OETk83s"
      },
      "source": [
        "X_test = pd.DataFrame(X_test)"
      ],
      "execution_count": 497,
      "outputs": []
    },
    {
      "cell_type": "code",
      "metadata": {
        "id": "oSnWOpJqkEjk"
      },
      "source": [
        "FD_DATA2 = X_test.fillna(0)"
      ],
      "execution_count": 498,
      "outputs": []
    },
    {
      "cell_type": "code",
      "metadata": {
        "id": "wOt01D9XobVU"
      },
      "source": [
        "# Applying PCA\n",
        "from sklearn.decomposition import PCA\n",
        "FD_DATA2pca = PCA(n_components=2)\n",
        "principalComponents_FD_DATA2 = FD_DATA2pca.fit_transform(FD_DATA2)"
      ],
      "execution_count": 499,
      "outputs": []
    },
    {
      "cell_type": "code",
      "metadata": {
        "colab": {
          "base_uri": "https://localhost:8080/"
        },
        "id": "5XHUSFSFozEh",
        "outputId": "75d9cb43-2f03-4685-c9f1-deb1c5333405"
      },
      "source": [
        "#Explained Variance Ratio\n",
        "explained_variance = FD_DATA2pca.explained_variance_ratio_\n",
        "explained_variance\n"
      ],
      "execution_count": 500,
      "outputs": [
        {
          "output_type": "execute_result",
          "data": {
            "text/plain": [
              "array([0.55296097, 0.44703903])"
            ]
          },
          "metadata": {},
          "execution_count": 500
        }
      ]
    },
    {
      "cell_type": "code",
      "metadata": {
        "id": "HlK_FptIUwf9"
      },
      "source": [
        "# Applying PCA 1 component\n",
        "from sklearn.decomposition import PCA\n",
        "FD_DATA2pca1 = PCA(n_components=1)\n",
        "principalComponents_FD_DATA2_1 = FD_DATA2pca1.fit_transform(FD_DATA2)"
      ],
      "execution_count": 501,
      "outputs": []
    },
    {
      "cell_type": "code",
      "metadata": {
        "colab": {
          "base_uri": "https://localhost:8080/"
        },
        "id": "jJa9zNpishpo",
        "outputId": "ea7a550c-e8fe-411a-c1e3-03c866b9f85a"
      },
      "source": [
        "#Explained Variance Ratio\n",
        "explained_variance = FD_DATA2pca1.explained_variance_ratio_\n",
        "explained_variance\n"
      ],
      "execution_count": 502,
      "outputs": [
        {
          "output_type": "execute_result",
          "data": {
            "text/plain": [
              "array([0.55296097])"
            ]
          },
          "metadata": {},
          "execution_count": 502
        }
      ]
    },
    {
      "cell_type": "markdown",
      "metadata": {
        "id": "3KNdQSf1CKI5"
      },
      "source": [
        "**FACTOR ANALYSIS**"
      ]
    },
    {
      "cell_type": "code",
      "metadata": {
        "colab": {
          "base_uri": "https://localhost:8080/"
        },
        "id": "Imh8PKD_C2ag",
        "outputId": "cbf83c25-2986-47d4-defa-33d1f8d48097"
      },
      "source": [
        "# Dataset columns\n",
        "FD_DATA1.columns"
      ],
      "execution_count": 503,
      "outputs": [
        {
          "output_type": "execute_result",
          "data": {
            "text/plain": [
              "Index(['country', 'year', 'uniqueid', 'has_a_bank_account', 'type_of_location',\n",
              "       'cell_phone_access', 'household_size', 'respondent_age',\n",
              "       'gender_of_respondent', 'relationship_with_head', 'marital_status',\n",
              "       'level_of_education', 'type_of_job'],\n",
              "      dtype='object')"
            ]
          },
          "metadata": {},
          "execution_count": 503
        }
      ]
    },
    {
      "cell_type": "code",
      "metadata": {
        "id": "ycxQvif4DTS4"
      },
      "source": [
        "# Dropping unnecessary columns \n",
        "FD_DATA3 = FD_DATA1.drop(['uniqueid', 'relationship_with_head','has_a_bank_account', 'type_of_location','cell_phone_access','country','year','gender_of_respondent','marital_status', 'level_of_education','type_of_job' ],axis=1)\n"
      ],
      "execution_count": 504,
      "outputs": []
    },
    {
      "cell_type": "code",
      "metadata": {
        "colab": {
          "base_uri": "https://localhost:8080/"
        },
        "id": "e4W_5LJRDopo",
        "outputId": "95edb5a6-3a0f-477b-c4b4-861104f967c9"
      },
      "source": [
        "# Datatypes\n",
        "FD_DATA3.info()"
      ],
      "execution_count": 505,
      "outputs": [
        {
          "output_type": "stream",
          "name": "stdout",
          "text": [
            "<class 'pandas.core.frame.DataFrame'>\n",
            "Int64Index: 22700 entries, 0 to 23522\n",
            "Data columns (total 2 columns):\n",
            " #   Column          Non-Null Count  Dtype  \n",
            "---  ------          --------------  -----  \n",
            " 0   household_size  22700 non-null  int64  \n",
            " 1   respondent_age  22700 non-null  float64\n",
            "dtypes: float64(1), int64(1)\n",
            "memory usage: 1.1 MB\n"
          ]
        }
      ]
    },
    {
      "cell_type": "code",
      "metadata": {
        "colab": {
          "base_uri": "https://localhost:8080/"
        },
        "id": "tVzaP2kMGQZw",
        "outputId": "f7057709-d3da-45f0-cf69-5c61c20ef853"
      },
      "source": [
        "# Installing factor analyzer \n",
        "!pip install factor_analyzer==0.2.3\n",
        "\n",
        "from factor_analyzer.factor_analyzer import calculate_bartlett_sphericity\n",
        "\n",
        "chi_square_value,p_value=calculate_bartlett_sphericity(FD_DATA3)\n",
        "chi_square_value, p_value"
      ],
      "execution_count": 506,
      "outputs": [
        {
          "output_type": "stream",
          "name": "stdout",
          "text": [
            "Requirement already satisfied: factor_analyzer==0.2.3 in /usr/local/lib/python3.7/dist-packages (0.2.3)\n",
            "Requirement already satisfied: numpy in /usr/local/lib/python3.7/dist-packages (from factor_analyzer==0.2.3) (1.19.5)\n",
            "Requirement already satisfied: pandas in /usr/local/lib/python3.7/dist-packages (from factor_analyzer==0.2.3) (1.1.5)\n",
            "Requirement already satisfied: scipy in /usr/local/lib/python3.7/dist-packages (from factor_analyzer==0.2.3) (1.4.1)\n",
            "Requirement already satisfied: pytz>=2017.2 in /usr/local/lib/python3.7/dist-packages (from pandas->factor_analyzer==0.2.3) (2018.9)\n",
            "Requirement already satisfied: python-dateutil>=2.7.3 in /usr/local/lib/python3.7/dist-packages (from pandas->factor_analyzer==0.2.3) (2.8.2)\n",
            "Requirement already satisfied: six>=1.5 in /usr/local/lib/python3.7/dist-packages (from python-dateutil>=2.7.3->pandas->factor_analyzer==0.2.3) (1.15.0)\n"
          ]
        },
        {
          "output_type": "execute_result",
          "data": {
            "text/plain": [
              "(256.0929167643763, 6.121262162069918e-58)"
            ]
          },
          "metadata": {},
          "execution_count": 506
        }
      ]
    },
    {
      "cell_type": "code",
      "metadata": {
        "id": "p9D_FPT1Gd9G"
      },
      "source": [
        "# Kaiser-Meyer-Olkin (KMO) Test measures the suitability of data for factor analysis. \n",
        "\n",
        "from factor_analyzer.factor_analyzer import calculate_kmo\n",
        "\n",
        "kmo_all,kmo_model=calculate_kmo(FD_DATA3)"
      ],
      "execution_count": 507,
      "outputs": []
    },
    {
      "cell_type": "code",
      "metadata": {
        "colab": {
          "base_uri": "https://localhost:8080/",
          "height": 111
        },
        "id": "aBgHkdJwGqSv",
        "outputId": "0aec4fe8-7eaf-4ef8-9187-09cffb58d3c6"
      },
      "source": [
        "# Choosing the Number of Factors\n",
        "# Kaiser criterion and scree plot\n",
        "# \n",
        "from factor_analyzer.factor_analyzer import FactorAnalyzer\n",
        "\n",
        "# Creating factor analysis object and perform factor analysis\n",
        "fa = FactorAnalyzer()\n",
        "fa.analyze(FD_DATA3, 2, rotation=None)\n",
        "\n",
        "# Checking the Eigenvalues\n",
        "ev, v = fa.get_eigenvalues()\n",
        "ev"
      ],
      "execution_count": 508,
      "outputs": [
        {
          "output_type": "execute_result",
          "data": {
            "text/html": [
              "<div>\n",
              "<style scoped>\n",
              "    .dataframe tbody tr th:only-of-type {\n",
              "        vertical-align: middle;\n",
              "    }\n",
              "\n",
              "    .dataframe tbody tr th {\n",
              "        vertical-align: top;\n",
              "    }\n",
              "\n",
              "    .dataframe thead th {\n",
              "        text-align: right;\n",
              "    }\n",
              "</style>\n",
              "<table border=\"1\" class=\"dataframe\">\n",
              "  <thead>\n",
              "    <tr style=\"text-align: right;\">\n",
              "      <th></th>\n",
              "      <th>Original_Eigenvalues</th>\n",
              "    </tr>\n",
              "  </thead>\n",
              "  <tbody>\n",
              "    <tr>\n",
              "      <th>0</th>\n",
              "      <td>1.105922</td>\n",
              "    </tr>\n",
              "    <tr>\n",
              "      <th>1</th>\n",
              "      <td>0.894078</td>\n",
              "    </tr>\n",
              "  </tbody>\n",
              "</table>\n",
              "</div>"
            ],
            "text/plain": [
              "   Original_Eigenvalues\n",
              "0              1.105922\n",
              "1              0.894078"
            ]
          },
          "metadata": {},
          "execution_count": 508
        }
      ]
    },
    {
      "cell_type": "code",
      "metadata": {
        "colab": {
          "base_uri": "https://localhost:8080/",
          "height": 295
        },
        "id": "F2QWVI3WHdLz",
        "outputId": "d5728902-2da5-4769-be90-632f56cee504"
      },
      "source": [
        "plt.scatter(range(1,FD_DATA3.shape[1]+1),ev)\n",
        "plt.plot(range(1,FD_DATA3.shape[1]+1),ev)\n",
        "plt.title('Scree Plot')\n",
        "plt.xlabel('Factors')\n",
        "plt.ylabel('Eigenvalue')\n",
        "plt.grid()\n",
        "plt.show()"
      ],
      "execution_count": 509,
      "outputs": [
        {
          "output_type": "display_data",
          "data": {
            "image/png": "[encoded data removed]",
            "text/plain": [
              "<Figure size 432x288 with 1 Axes>"
            ]
          },
          "metadata": {}
        }
      ]
    },
    {
      "cell_type": "code",
      "metadata": {
        "colab": {
          "base_uri": "https://localhost:8080/",
          "height": 111
        },
        "id": "UvghIxRbHmYw",
        "outputId": "80a91f97-6d81-40dc-f05a-0cdca6a91577"
      },
      "source": [
        "#Factor analysis\n",
        "fa = FactorAnalyzer()\n",
        "fa.analyze(FD_DATA3, 2, rotation=\"varimax\")\n",
        "fa.loadings"
      ],
      "execution_count": 510,
      "outputs": [
        {
          "output_type": "execute_result",
          "data": {
            "text/html": [
              "<div>\n",
              "<style scoped>\n",
              "    .dataframe tbody tr th:only-of-type {\n",
              "        vertical-align: middle;\n",
              "    }\n",
              "\n",
              "    .dataframe tbody tr th {\n",
              "        vertical-align: top;\n",
              "    }\n",
              "\n",
              "    .dataframe thead th {\n",
              "        text-align: right;\n",
              "    }\n",
              "</style>\n",
              "<table border=\"1\" class=\"dataframe\">\n",
              "  <thead>\n",
              "    <tr style=\"text-align: right;\">\n",
              "      <th></th>\n",
              "      <th>Factor1</th>\n",
              "      <th>Factor2</th>\n",
              "    </tr>\n",
              "  </thead>\n",
              "  <tbody>\n",
              "    <tr>\n",
              "      <th>household_size</th>\n",
              "      <td>-0.325457</td>\n",
              "      <td>0.00005</td>\n",
              "    </tr>\n",
              "    <tr>\n",
              "      <th>respondent_age</th>\n",
              "      <td>0.325457</td>\n",
              "      <td>0.00005</td>\n",
              "    </tr>\n",
              "  </tbody>\n",
              "</table>\n",
              "</div>"
            ],
            "text/plain": [
              "                 Factor1  Factor2\n",
              "household_size -0.325457  0.00005\n",
              "respondent_age  0.325457  0.00005"
            ]
          },
          "metadata": {},
          "execution_count": 510
        }
      ]
    },
    {
      "cell_type": "code",
      "metadata": {
        "colab": {
          "base_uri": "https://localhost:8080/",
          "height": 142
        },
        "id": "FWFlx3vQICh-",
        "outputId": "bfb41b0a-687e-4cc5-b319-a0273f836e77"
      },
      "source": [
        "# Variance of each factor\n",
        "fa.get_factor_variance()"
      ],
      "execution_count": 511,
      "outputs": [
        {
          "output_type": "execute_result",
          "data": {
            "text/html": [
              "<div>\n",
              "<style scoped>\n",
              "    .dataframe tbody tr th:only-of-type {\n",
              "        vertical-align: middle;\n",
              "    }\n",
              "\n",
              "    .dataframe tbody tr th {\n",
              "        vertical-align: top;\n",
              "    }\n",
              "\n",
              "    .dataframe thead th {\n",
              "        text-align: right;\n",
              "    }\n",
              "</style>\n",
              "<table border=\"1\" class=\"dataframe\">\n",
              "  <thead>\n",
              "    <tr style=\"text-align: right;\">\n",
              "      <th></th>\n",
              "      <th>Factor1</th>\n",
              "      <th>Factor2</th>\n",
              "    </tr>\n",
              "  </thead>\n",
              "  <tbody>\n",
              "    <tr>\n",
              "      <th>SS Loadings</th>\n",
              "      <td>0.211844</td>\n",
              "      <td>4.967048e-09</td>\n",
              "    </tr>\n",
              "    <tr>\n",
              "      <th>Proportion Var</th>\n",
              "      <td>0.105922</td>\n",
              "      <td>2.483524e-09</td>\n",
              "    </tr>\n",
              "    <tr>\n",
              "      <th>Cumulative Var</th>\n",
              "      <td>0.105922</td>\n",
              "      <td>1.059219e-01</td>\n",
              "    </tr>\n",
              "  </tbody>\n",
              "</table>\n",
              "</div>"
            ],
            "text/plain": [
              "                 Factor1       Factor2\n",
              "SS Loadings     0.211844  4.967048e-09\n",
              "Proportion Var  0.105922  2.483524e-09\n",
              "Cumulative Var  0.105922  1.059219e-01"
            ]
          },
          "metadata": {},
          "execution_count": 511
        }
      ]
    },
    {
      "cell_type": "markdown",
      "metadata": {
        "id": "ZbR_qM4VJXIj"
      },
      "source": [
        "**LDA**"
      ]
    },
    {
      "cell_type": "code",
      "metadata": {
        "colab": {
          "base_uri": "https://localhost:8080/",
          "height": 326
        },
        "id": "eh2F1X5QKm1d",
        "outputId": "e55cadf2-20ef-4f69-93cd-4d6b2e3e735e"
      },
      "source": [
        "# Preview data\n",
        "FD_DATA1.head()"
      ],
      "execution_count": 512,
      "outputs": [
        {
          "output_type": "execute_result",
          "data": {
            "text/html": [
              "<div>\n",
              "<style scoped>\n",
              "    .dataframe tbody tr th:only-of-type {\n",
              "        vertical-align: middle;\n",
              "    }\n",
              "\n",
              "    .dataframe tbody tr th {\n",
              "        vertical-align: top;\n",
              "    }\n",
              "\n",
              "    .dataframe thead th {\n",
              "        text-align: right;\n",
              "    }\n",
              "</style>\n",
              "<table border=\"1\" class=\"dataframe\">\n",
              "  <thead>\n",
              "    <tr style=\"text-align: right;\">\n",
              "      <th></th>\n",
              "      <th>country</th>\n",
              "      <th>year</th>\n",
              "      <th>uniqueid</th>\n",
              "      <th>has_a_bank_account</th>\n",
              "      <th>type_of_location</th>\n",
              "      <th>cell_phone_access</th>\n",
              "      <th>household_size</th>\n",
              "      <th>respondent_age</th>\n",
              "      <th>gender_of_respondent</th>\n",
              "      <th>relationship_with_head</th>\n",
              "      <th>marital_status</th>\n",
              "      <th>level_of_education</th>\n",
              "      <th>type_of_job</th>\n",
              "    </tr>\n",
              "  </thead>\n",
              "  <tbody>\n",
              "    <tr>\n",
              "      <th>0</th>\n",
              "      <td>Kenya</td>\n",
              "      <td>2018</td>\n",
              "      <td>uniqueid_1</td>\n",
              "      <td>Yes</td>\n",
              "      <td>Rural</td>\n",
              "      <td>Yes</td>\n",
              "      <td>3</td>\n",
              "      <td>24.0</td>\n",
              "      <td>Female</td>\n",
              "      <td>Spouse</td>\n",
              "      <td>Married/Living together</td>\n",
              "      <td>Secondary education</td>\n",
              "      <td>Self employed</td>\n",
              "    </tr>\n",
              "    <tr>\n",
              "      <th>1</th>\n",
              "      <td>Kenya</td>\n",
              "      <td>2018</td>\n",
              "      <td>uniqueid_2</td>\n",
              "      <td>No</td>\n",
              "      <td>Rural</td>\n",
              "      <td>No</td>\n",
              "      <td>5</td>\n",
              "      <td>70.0</td>\n",
              "      <td>Female</td>\n",
              "      <td>Head of Household</td>\n",
              "      <td>Widowed</td>\n",
              "      <td>No formal education</td>\n",
              "      <td>Government Dependent</td>\n",
              "    </tr>\n",
              "    <tr>\n",
              "      <th>2</th>\n",
              "      <td>Kenya</td>\n",
              "      <td>2018</td>\n",
              "      <td>uniqueid_3</td>\n",
              "      <td>Yes</td>\n",
              "      <td>Urban</td>\n",
              "      <td>Yes</td>\n",
              "      <td>5</td>\n",
              "      <td>26.0</td>\n",
              "      <td>Male</td>\n",
              "      <td>Other relative</td>\n",
              "      <td>Single/Never Married</td>\n",
              "      <td>Vocational/Specialised training</td>\n",
              "      <td>Self employed</td>\n",
              "    </tr>\n",
              "    <tr>\n",
              "      <th>3</th>\n",
              "      <td>Kenya</td>\n",
              "      <td>2018</td>\n",
              "      <td>uniqueid_4</td>\n",
              "      <td>No</td>\n",
              "      <td>Rural</td>\n",
              "      <td>Yes</td>\n",
              "      <td>5</td>\n",
              "      <td>34.0</td>\n",
              "      <td>Female</td>\n",
              "      <td>Head of Household</td>\n",
              "      <td>Married/Living together</td>\n",
              "      <td>Primary education</td>\n",
              "      <td>Formally employed Private</td>\n",
              "    </tr>\n",
              "    <tr>\n",
              "      <th>4</th>\n",
              "      <td>Kenya</td>\n",
              "      <td>2018</td>\n",
              "      <td>uniqueid_5</td>\n",
              "      <td>No</td>\n",
              "      <td>Urban</td>\n",
              "      <td>No</td>\n",
              "      <td>8</td>\n",
              "      <td>26.0</td>\n",
              "      <td>Male</td>\n",
              "      <td>Child</td>\n",
              "      <td>Single/Never Married</td>\n",
              "      <td>Primary education</td>\n",
              "      <td>Informally employed</td>\n",
              "    </tr>\n",
              "  </tbody>\n",
              "</table>\n",
              "</div>"
            ],
            "text/plain": [
              "  country  year  ...               level_of_education                type_of_job\n",
              "0   Kenya  2018  ...              Secondary education              Self employed\n",
              "1   Kenya  2018  ...              No formal education       Government Dependent\n",
              "2   Kenya  2018  ...  Vocational/Specialised training              Self employed\n",
              "3   Kenya  2018  ...                Primary education  Formally employed Private\n",
              "4   Kenya  2018  ...                Primary education        Informally employed\n",
              "\n",
              "[5 rows x 13 columns]"
            ]
          },
          "metadata": {},
          "execution_count": 512
        }
      ]
    },
    {
      "cell_type": "code",
      "metadata": {
        "colab": {
          "base_uri": "https://localhost:8080/",
          "height": 204
        },
        "id": "0z5txQacKxbF",
        "outputId": "a36d68a0-9572-4186-e991-3b8f64fa927b"
      },
      "source": [
        "# Drop columns \n",
        "FD_DATA4 = FD_DATA1.drop(['uniqueid', 'relationship_with_head', 'type_of_location','cell_phone_access','country','year','gender_of_respondent','marital_status', 'level_of_education','type_of_job' ],axis=1)\n",
        "FD_DATA4.head()"
      ],
      "execution_count": 527,
      "outputs": [
        {
          "output_type": "execute_result",
          "data": {
            "text/html": [
              "<div>\n",
              "<style scoped>\n",
              "    .dataframe tbody tr th:only-of-type {\n",
              "        vertical-align: middle;\n",
              "    }\n",
              "\n",
              "    .dataframe tbody tr th {\n",
              "        vertical-align: top;\n",
              "    }\n",
              "\n",
              "    .dataframe thead th {\n",
              "        text-align: right;\n",
              "    }\n",
              "</style>\n",
              "<table border=\"1\" class=\"dataframe\">\n",
              "  <thead>\n",
              "    <tr style=\"text-align: right;\">\n",
              "      <th></th>\n",
              "      <th>has_a_bank_account</th>\n",
              "      <th>household_size</th>\n",
              "      <th>respondent_age</th>\n",
              "    </tr>\n",
              "  </thead>\n",
              "  <tbody>\n",
              "    <tr>\n",
              "      <th>0</th>\n",
              "      <td>Yes</td>\n",
              "      <td>3</td>\n",
              "      <td>24.0</td>\n",
              "    </tr>\n",
              "    <tr>\n",
              "      <th>1</th>\n",
              "      <td>No</td>\n",
              "      <td>5</td>\n",
              "      <td>70.0</td>\n",
              "    </tr>\n",
              "    <tr>\n",
              "      <th>2</th>\n",
              "      <td>Yes</td>\n",
              "      <td>5</td>\n",
              "      <td>26.0</td>\n",
              "    </tr>\n",
              "    <tr>\n",
              "      <th>3</th>\n",
              "      <td>No</td>\n",
              "      <td>5</td>\n",
              "      <td>34.0</td>\n",
              "    </tr>\n",
              "    <tr>\n",
              "      <th>4</th>\n",
              "      <td>No</td>\n",
              "      <td>8</td>\n",
              "      <td>26.0</td>\n",
              "    </tr>\n",
              "  </tbody>\n",
              "</table>\n",
              "</div>"
            ],
            "text/plain": [
              "  has_a_bank_account  household_size  respondent_age\n",
              "0                Yes               3            24.0\n",
              "1                 No               5            70.0\n",
              "2                Yes               5            26.0\n",
              "3                 No               5            34.0\n",
              "4                 No               8            26.0"
            ]
          },
          "metadata": {},
          "execution_count": 527
        }
      ]
    },
    {
      "cell_type": "code",
      "metadata": {
        "id": "8a9iIuq2JWFS"
      },
      "source": [
        "# Divide data into labels and feature set\n",
        "\n",
        "X = FD_DATA4.iloc[:, 1:3].values\n",
        "y = FD_DATA4.iloc[:, 0].values"
      ],
      "execution_count": 528,
      "outputs": []
    },
    {
      "cell_type": "code",
      "metadata": {
        "id": "0l7cHKnPLpla"
      },
      "source": [
        "# Divide data into training and test sets\n",
        "\n",
        "from sklearn.model_selection import train_test_split\n",
        "X_train, X_test, y_train, y_test = train_test_split(X, y, test_size=0.2, random_state=0)"
      ],
      "execution_count": 529,
      "outputs": []
    },
    {
      "cell_type": "code",
      "metadata": {
        "id": "PRSqiuH9LtU8"
      },
      "source": [
        "# Feature scaling\n",
        "\n",
        "from sklearn.preprocessing import StandardScaler\n",
        "sc = StandardScaler()\n",
        "X_train = sc.fit_transform(X_train)\n",
        "X_test = sc.transform(X_test)"
      ],
      "execution_count": 530,
      "outputs": []
    },
    {
      "cell_type": "code",
      "metadata": {
        "id": "82Hl4cfALwh5"
      },
      "source": [
        "# LDA\n",
        "from sklearn.discriminant_analysis import LinearDiscriminantAnalysis as LDA\n",
        "lda = LDA(n_components=1)\n",
        "X_train = lda.fit_transform(X_train, y_train)\n",
        "X_test = lda.transform(X_test)"
      ],
      "execution_count": 531,
      "outputs": []
    },
    {
      "cell_type": "code",
      "metadata": {
        "id": "rSUnzPdsL1pF"
      },
      "source": [
        "# Training and Making Predictions\n",
        "\n",
        "from sklearn.ensemble import RandomForestClassifier\n",
        "\n",
        "classifier = RandomForestClassifier(max_depth=2, random_state=0)\n",
        "classifier.fit(X_train, y_train)\n",
        "y_pred = classifier.predict(X_test)"
      ],
      "execution_count": 532,
      "outputs": []
    },
    {
      "cell_type": "code",
      "metadata": {
        "colab": {
          "base_uri": "https://localhost:8080/"
        },
        "id": "yuDCdgSDL5lO",
        "outputId": "97056f0c-439f-4a8b-df56-589fbf036967"
      },
      "source": [
        "# Evaluating the Performance of the algorithm and accuracy of the prediction\n",
        "\n",
        "from sklearn.metrics import confusion_matrix\n",
        "from sklearn.metrics import accuracy_score\n",
        "\n",
        "cm = confusion_matrix(y_test, y_pred)\n",
        "print(cm)\n",
        "print('Accuracy' + str(accuracy_score(y_test, y_pred)))"
      ],
      "execution_count": 533,
      "outputs": [
        {
          "output_type": "stream",
          "name": "stdout",
          "text": [
            "[[3897    0]\n",
            " [ 643    0]]\n",
            "Accuracy0.8583700440528634\n"
          ]
        }
      ]
    }
  ]
}